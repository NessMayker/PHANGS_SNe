{
 "cells": [
  {
   "cell_type": "markdown",
   "metadata": {},
   "source": [
    "This notebook reads in the conbined SNe catalog file ('1.FullCatalog.csv') and searches through PHANGS CO map images, looking for OSC objects that have gone off since a chosen year. \n"
   ]
  },
  {
   "cell_type": "code",
   "execution_count": 1,
   "metadata": {},
   "outputs": [],
   "source": [
    "#import packages and formatting statements\n",
    "\n",
    "import numpy as np\n",
    "from matplotlib import pyplot as plt\n",
    "import astropy.io.fits as pyfits\n",
    "from astropy.table import Table\n",
    "from astropy.wcs import WCS\n",
    "from astropy.io import ascii\n",
    "\n",
    "plt.rc('text',usetex=False)\n",
    "fontsize=20\n",
    "plt.rc('xtick',labelsize=fontsize)\n",
    "plt.rc('ytick',labelsize=fontsize)"
   ]
  },
  {
   "cell_type": "code",
   "execution_count": 2,
   "metadata": {},
   "outputs": [],
   "source": [
    "# assign previous and future year boundaries for survey, list actual cutoff year for filename\n",
    "\n",
    "PREVIOUS_YEAR = \"2018\"\n",
    "FUTURE_YEAR = \"2023\"\n",
    "CUTOFF_YEAR = \"2019\""
   ]
  },
  {
   "cell_type": "code",
   "execution_count": 4,
   "metadata": {},
   "outputs": [
    {
     "data": {
      "text/html": [
       "<div><i>Table length=37752</i>\n",
       "<table id=\"table5961912400\" class=\"table-striped table-bordered table-condensed\">\n",
       "<thead><tr><th>Name</th><th>Type</th><th>Host</th><th>RA hms</th><th>Dec dms</th><th>RA dds</th><th>Dec dds</th><th>DiscDate</th></tr></thead>\n",
       "<thead><tr><th>str36</th><th>str19</th><th>str44</th><th>str11</th><th>str12</th><th>float64</th><th>float64</th><th>str23</th></tr></thead>\n",
       "<tr><td>2018inf</td><td>Ia</td><td>MCG +07-28-26</td><td>13:31:56.1</td><td>+44:08:21.69</td><td>202.98375000000001</td><td>44.139358333333334</td><td>2018/11/15</td></tr>\n",
       "<tr><td>A2021ymb</td><td>Ia</td><td>--</td><td>0:20:51.16</td><td>-32:51:24.88</td><td>5.21315</td><td>-32.85691111111111</td><td>2021/09/08</td></tr>\n",
       "<tr><td>ASASSN-13av</td><td>Ia</td><td>NGC 7068</td><td>21:26:31.92</td><td>+12:10:48.72</td><td>321.633</td><td>12.1802</td><td>2013/06/26</td></tr>\n",
       "<tr><td>ASASSN-13ch</td><td>Ia</td><td>CGCG 023-030</td><td>16:16:34.07</td><td>-0:35:27.36</td><td>244.14195833333332</td><td>-0.5909322222222222</td><td>2013/08/28</td></tr>\n",
       "<tr><td>ASASSN-13cj</td><td>Ia</td><td>CGCG 051-075</td><td>16:17:11.03</td><td>+4:33:14.69</td><td>244.29593749999998</td><td>4.554081666666667</td><td>2013/08/27</td></tr>\n",
       "<tr><td>ASASSN-13co</td><td>II</td><td>CGCG 402-014</td><td>21:40:38.63</td><td>+6:30:36.71</td><td>325.1609444444445</td><td>6.510197222222222</td><td>2013/08/29</td></tr>\n",
       "<tr><td>...</td><td>...</td><td>...</td><td>...</td><td>...</td><td>...</td><td>...</td><td>...</td></tr>\n",
       "<tr><td>iPTF16fnl</td><td>Unclassified</td><td>--</td><td>0:29:57.1</td><td>+32:53:38.4</td><td>7.487916666666667</td><td>32.894</td><td>2016</td></tr>\n",
       "<tr><td>iPTF16fsc</td><td>Ia</td><td>--</td><td>2:24:28.34</td><td>+32:51:30.69</td><td>36.11808333333333</td><td>32.858525</td><td>2016/09/04</td></tr>\n",
       "<tr><td>iPTF16gyl</td><td>Ia</td><td>--</td><td>0:42:53.12</td><td>+7:01:41.78</td><td>10.721333333333332</td><td>7.028272222222222</td><td>2016/10/07</td></tr>\n",
       "<tr><td>iPTF16hcn</td><td>Ia</td><td>--</td><td>22:08:01.33</td><td>+30:46:27.95</td><td>332.00554166666666</td><td>30.774430555555554</td><td>2016/10/12</td></tr>\n",
       "<tr><td>iPTF16hrx</td><td>Ia</td><td>--</td><td>1:23:54.57</td><td>+38:51:01.99</td><td>20.977375000000002</td><td>38.85055277777778</td><td>2016/11/02</td></tr>\n",
       "<tr><td>iPTF16ijw</td><td>Ia</td><td>--</td><td>23:36:51.33</td><td>+20:43:23.69</td><td>354.21387500000003</td><td>20.72324722222222</td><td>2016/11/23</td></tr>\n",
       "<tr><td>iPTF16isi</td><td>Ia</td><td>--</td><td>1:20:47.43</td><td>+42:42:13.63</td><td>20.197645833333333</td><td>42.703786111111114</td><td>2016/12/06</td></tr>\n",
       "</table></div>"
      ],
      "text/plain": [
       "<Table length=37752>\n",
       "    Name        Type          Host     ...       Dec dds        DiscDate \n",
       "   str36       str19         str44     ...       float64         str23   \n",
       "----------- ------------ ------------- ... ------------------- ----------\n",
       "    2018inf           Ia MCG +07-28-26 ...  44.139358333333334 2018/11/15\n",
       "   A2021ymb           Ia            -- ...  -32.85691111111111 2021/09/08\n",
       "ASASSN-13av           Ia      NGC 7068 ...             12.1802 2013/06/26\n",
       "ASASSN-13ch           Ia  CGCG 023-030 ... -0.5909322222222222 2013/08/28\n",
       "ASASSN-13cj           Ia  CGCG 051-075 ...   4.554081666666667 2013/08/27\n",
       "ASASSN-13co           II  CGCG 402-014 ...   6.510197222222222 2013/08/29\n",
       "        ...          ...           ... ...                 ...        ...\n",
       "  iPTF16fnl Unclassified            -- ...              32.894       2016\n",
       "  iPTF16fsc           Ia            -- ...           32.858525 2016/09/04\n",
       "  iPTF16gyl           Ia            -- ...   7.028272222222222 2016/10/07\n",
       "  iPTF16hcn           Ia            -- ...  30.774430555555554 2016/10/12\n",
       "  iPTF16hrx           Ia            -- ...   38.85055277777778 2016/11/02\n",
       "  iPTF16ijw           Ia            -- ...   20.72324722222222 2016/11/23\n",
       "  iPTF16isi           Ia            -- ...  42.703786111111114 2016/12/06"
      ]
     },
     "execution_count": 4,
     "metadata": {},
     "output_type": "execute_result"
    }
   ],
   "source": [
    "FullCat = '../Data/1.FullCatalog.csv'\n",
    "SNTable = Table.read(FullCat, format='csv')\n",
    "SNTable"
   ]
  },
  {
   "cell_type": "code",
   "execution_count": 5,
   "metadata": {},
   "outputs": [],
   "source": [
    "# shorten DiscDate column to only have year\n",
    "\n",
    "DiscYear = [c[0:4] for c in SNTable[\"DiscDate\"]]\n",
    "SNTable.add_column(DiscYear, name=\"DiscYear\")\n"
   ]
  },
  {
   "cell_type": "code",
   "execution_count": 6,
   "metadata": {},
   "outputs": [
    {
     "data": {
      "text/html": [
       "<div><i>Table length=9390</i>\n",
       "<table id=\"table5947937360\" class=\"table-striped table-bordered table-condensed\">\n",
       "<thead><tr><th>Name</th><th>Type</th><th>Host</th><th>RA hms</th><th>Dec dms</th><th>RA dds</th><th>Dec dds</th><th>DiscDate</th><th>DiscYear</th></tr></thead>\n",
       "<thead><tr><th>str36</th><th>str19</th><th>str44</th><th>str11</th><th>str12</th><th>float64</th><th>float64</th><th>str23</th><th>str4</th></tr></thead>\n",
       "<tr><td>A2021ymb</td><td>Ia</td><td>--</td><td>0:20:51.16</td><td>-32:51:24.88</td><td>5.21315</td><td>-32.85691111111111</td><td>2021/09/08</td><td>2021</td></tr>\n",
       "<tr><td>ASASSN-19abg</td><td>Unclassified</td><td>IC 4890</td><td>19:45:32.16</td><td>-56:33:11.52</td><td>296.384</td><td>-56.5532</td><td>2019/11/15</td><td>2019</td></tr>\n",
       "<tr><td>ASASSN-19kb</td><td>Ia</td><td>LEDA 986847</td><td>12:45:51.07</td><td>-9:45:21.15</td><td>191.4627847222222</td><td>-9.755873888888887</td><td>2019/04/13</td><td>2019</td></tr>\n",
       "<tr><td>ASASSN-19kz</td><td>II</td><td>NGC 2207</td><td>6:16:22.25</td><td>-21:21:35.47</td><td>94.09271666666666</td><td>-21.359853703703703</td><td>2019/04/27</td><td>2019</td></tr>\n",
       "<tr><td>ASASSN-19lp</td><td>II</td><td>2MASX J22522926-1105320</td><td>22:52:29.3</td><td>-11:05:25.64</td><td>343.12210208333335</td><td>-11.090454629629631</td><td>2019/05/02</td><td>2019</td></tr>\n",
       "<tr><td>ASASSN-19nb</td><td>Ia</td><td>GALEXASC J231739.47-591551.0</td><td>23:17:38.76</td><td>-59:15:42.39</td><td>349.4114861111111</td><td>-59.261775925925924</td><td>2019/05/16</td><td>2019</td></tr>\n",
       "<tr><td>...</td><td>...</td><td>...</td><td>...</td><td>...</td><td>...</td><td>...</td><td>...</td><td>...</td></tr>\n",
       "<tr><td>SNhunt431</td><td>Unclassified</td><td>MCG +01-30-19</td><td>11:54:54.29</td><td>+2:58:37.74</td><td>178.7262</td><td>2.97715</td><td>2020/04/23</td><td>2020</td></tr>\n",
       "<tr><td>SNhunt432</td><td>Unclassified</td><td>UGC 8588</td><td>13:35:41.57</td><td>+45:55:31.8</td><td>203.9232</td><td>45.9255</td><td>2020/05/05</td><td>2020</td></tr>\n",
       "<tr><td>SNhunt433</td><td>Unclassified</td><td>SDSS J114234.77+244838.2</td><td>11:42:34.81</td><td>+24:48:38.18</td><td>175.64504999999997</td><td>24.810606944444444</td><td>2020/05/18</td><td>2020</td></tr>\n",
       "<tr><td>SNhunt434</td><td>Unclassified</td><td>UGC 9089</td><td>14:12:27.83</td><td>+11:14:00.96</td><td>213.11595</td><td>11.2336</td><td>2020/05/20</td><td>2020</td></tr>\n",
       "<tr><td>SNhunt436</td><td>Unclassified</td><td>PGC 1374835</td><td>4:36:00.29</td><td>+10:07:27.12</td><td>69.00119999999998</td><td>10.1242</td><td>2020/12/24</td><td>2020</td></tr>\n",
       "<tr><td>ZTF19aakswlj</td><td>Ia</td><td>UGC 9543</td><td>14:49:09.36</td><td>+38:24:31.68</td><td>222.289</td><td>38.4088</td><td>2019/02/27</td><td>2019</td></tr>\n",
       "<tr><td>ZTF19acyihlk</td><td>Ia</td><td>--</td><td>8:48:11.53</td><td>+3:55:56.95</td><td>132.04804166666668</td><td>3.932486111111111</td><td>2019/12/10</td><td>2019</td></tr>\n",
       "</table></div>"
      ],
      "text/plain": [
       "<Table length=9390>\n",
       "    Name         Type                 Host             ...  DiscDate  DiscYear\n",
       "   str36        str19                str44             ...   str23      str4  \n",
       "------------ ------------ ---------------------------- ... ---------- --------\n",
       "    A2021ymb           Ia                           -- ... 2021/09/08     2021\n",
       "ASASSN-19abg Unclassified                      IC 4890 ... 2019/11/15     2019\n",
       " ASASSN-19kb           Ia                  LEDA 986847 ... 2019/04/13     2019\n",
       " ASASSN-19kz           II                     NGC 2207 ... 2019/04/27     2019\n",
       " ASASSN-19lp           II      2MASX J22522926-1105320 ... 2019/05/02     2019\n",
       " ASASSN-19nb           Ia GALEXASC J231739.47-591551.0 ... 2019/05/16     2019\n",
       "         ...          ...                          ... ...        ...      ...\n",
       "   SNhunt431 Unclassified                MCG +01-30-19 ... 2020/04/23     2020\n",
       "   SNhunt432 Unclassified                     UGC 8588 ... 2020/05/05     2020\n",
       "   SNhunt433 Unclassified     SDSS J114234.77+244838.2 ... 2020/05/18     2020\n",
       "   SNhunt434 Unclassified                     UGC 9089 ... 2020/05/20     2020\n",
       "   SNhunt436 Unclassified                  PGC 1374835 ... 2020/12/24     2020\n",
       "ZTF19aakswlj           Ia                     UGC 9543 ... 2019/02/27     2019\n",
       "ZTF19acyihlk           Ia                           -- ... 2019/12/10     2019"
      ]
     },
     "execution_count": 6,
     "metadata": {},
     "output_type": "execute_result"
    }
   ],
   "source": [
    "# remove rows of SNTable that have year < year chosen\n",
    "\n",
    "mask = (SNTable[\"DiscYear\"] > PREVIOUS_YEAR) & (SNTable[\"DiscYear\"] < FUTURE_YEAR) \n",
    "SNRecent = SNTable[mask] \n",
    "\n",
    "SNRecent\n"
   ]
  },
  {
   "cell_type": "code",
   "execution_count": 7,
   "metadata": {},
   "outputs": [],
   "source": [
    "fileName = \"../Data/2.RecentSNTable\" + CUTOFF_YEAR + \".csv\"\n",
    "SNRecent.write(fileName, overwrite = True)\n"
   ]
  },
  {
   "cell_type": "code",
   "execution_count": null,
   "metadata": {},
   "outputs": [],
   "source": []
  },
  {
   "cell_type": "code",
   "execution_count": null,
   "metadata": {},
   "outputs": [],
   "source": []
  }
 ],
 "metadata": {
  "kernelspec": {
   "display_name": "Python 3 (ipykernel)",
   "language": "python",
   "name": "python3"
  },
  "language_info": {
   "codemirror_mode": {
    "name": "ipython",
    "version": 3
   },
   "file_extension": ".py",
   "mimetype": "text/x-python",
   "name": "python",
   "nbconvert_exporter": "python",
   "pygments_lexer": "ipython3",
   "version": "3.11.5"
  }
 },
 "nbformat": 4,
 "nbformat_minor": 2
}
