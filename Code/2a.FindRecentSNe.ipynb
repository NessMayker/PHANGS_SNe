{
 "cells": [
  {
   "cell_type": "markdown",
   "metadata": {},
   "source": [
    "This notebook reads in the conbined SNe catalog file ('1.FullCatalog.csv') and searches through PHANGS CO map images, looking for OSC objects that have gone off since a chosen year. \n"
   ]
  },
  {
   "cell_type": "code",
   "execution_count": 1,
   "metadata": {},
   "outputs": [],
   "source": [
    "#import packages and formatting statements\n",
    "\n",
    "import numpy as np\n",
    "from matplotlib import pyplot as plt\n",
    "import astropy.io.fits as pyfits\n",
    "from astropy.table import Table\n",
    "from astropy.wcs import WCS\n",
    "from astropy.io import ascii\n",
    "\n",
    "plt.rc('text',usetex=False)\n",
    "fontsize=20\n",
    "plt.rc('xtick',labelsize=fontsize)\n",
    "plt.rc('ytick',labelsize=fontsize)"
   ]
  },
  {
   "cell_type": "code",
   "execution_count": 2,
   "metadata": {},
   "outputs": [],
   "source": [
    "# assign previous and future year boundaries for survey, list actual cutoff year for filename\n",
    "\n",
    "PREVIOUS_YEAR = \"2018\"\n",
    "FUTURE_YEAR = \"2023\"\n",
    "CUTOFF_YEAR = \"2019\""
   ]
  },
  {
   "cell_type": "code",
   "execution_count": 3,
   "metadata": {},
   "outputs": [
    {
     "data": {
      "text/html": [
       "<i>Table length=100166</i>\n",
       "<table id=\"table139843362045808\" class=\"table-striped table-bordered table-condensed\">\n",
       "<thead><tr><th>Name</th><th>Host</th><th>RA</th><th>Dec</th><th>Type</th><th>DiscDate</th></tr></thead>\n",
       "<thead><tr><th>str41</th><th>str46</th><th>str11</th><th>str12</th><th>str19</th><th>str23</th></tr></thead>\n",
       "<tr><td>&quot;SN 2022yjl&quot;</td><td>&quot;&quot;</td><td>22:17:58.32</td><td>+10:59:43.14</td><td>SN II</td><td>2022-10-22 15:08:59.136</td></tr>\n",
       "<tr><td>&quot;SN 2022yig&quot;</td><td>&quot;&quot;</td><td>5:20:21.49</td><td>-20:54:41.44</td><td>SN Ia</td><td>2022-10-21 06:59:41.280</td></tr>\n",
       "<tr><td>&quot;SN 2022yid&quot;</td><td>&quot;NGC 946&quot;</td><td>2:30:38.61</td><td>+42:13:57.65</td><td>SN Ia</td><td>2022-10-21 11:31:12.000</td></tr>\n",
       "<tr><td>&quot;SN 2022yhl&quot;</td><td>&quot;&quot;</td><td>2:27:30.97</td><td>-1:06:35.15</td><td>SN Ia</td><td>2022-10-21 11:46:22.656</td></tr>\n",
       "<tr><td>&quot;SN 2022ydl&quot;</td><td>&quot;&quot;</td><td>22:40:04.42</td><td>-6:38:28.21</td><td>SN Ia</td><td>2022-10-19 02:12:36.576</td></tr>\n",
       "<tr><td>&quot;SN 2022ydi&quot;</td><td>&quot;&quot;</td><td>1:08:00.62</td><td>+40:14:00.32</td><td>SN Ia</td><td>2022-10-19 09:53:19.392</td></tr>\n",
       "<tr><td>&quot;SN 2022ycs&quot;</td><td>&quot;&quot;</td><td>7:50:56.43</td><td>+18:37:35.35</td><td>SN II</td><td>2022-10-14 11:25:26.400</td></tr>\n",
       "<tr><td>&quot;SN 2022ybo&quot;</td><td>&quot;&quot;</td><td>10:32:16.23</td><td>+53:38:38.9</td><td>SN Ia</td><td>2022-10-15 11:09:36.000</td></tr>\n",
       "<tr><td>&quot;SN 2022ybb&quot;</td><td>&quot;&quot;</td><td>23:30:06.18</td><td>+5:40:37.28</td><td>SN Ia</td><td>2022-10-18 09:35:28.896</td></tr>\n",
       "<tr><td>&quot;SN 2022yaz&quot;</td><td>&quot;&quot;</td><td>8:27:19.6</td><td>-13:24:35.67</td><td>SN Ia</td><td>2022-10-18 14:54:29.952</td></tr>\n",
       "<tr><td>...</td><td>...</td><td>...</td><td>...</td><td>...</td><td>...</td></tr>\n",
       "<tr><td>&quot;SN185A&quot;</td><td>&quot;Milky Way&quot;</td><td>14:40:48.33</td><td>-61:51:20.0</td><td>Ia</td><td>185/12/07</td></tr>\n",
       "<tr><td>&quot;SN1868A&quot;</td><td>&quot;Milky Way&quot;</td><td>12:48:43.5</td><td>-27:09:30.0</td><td>--</td><td>1868</td></tr>\n",
       "<tr><td>&quot;SN1935B&quot;</td><td>&quot;NGC 3115&quot;</td><td>10:05:11.34</td><td>-7:42:07.15</td><td>--</td><td>1935/04/01</td></tr>\n",
       "<tr><td>&quot;SN1954J&quot;</td><td>&quot;NGC 2403&quot;</td><td>7:36:55.64</td><td>+65:37:52.17</td><td>II Pec?</td><td>1954/11/26</td></tr>\n",
       "<tr><td>&quot;SN1982aa&quot;</td><td>&quot;NGC 6052&quot;</td><td>16:05:12.77</td><td>+20:32:38.37</td><td>--</td><td>1982/01/01</td></tr>\n",
       "<tr><td>&quot;SN1985M&quot;</td><td>&quot;A220830-4830&quot;</td><td>22:08:28.02</td><td>-48:30:20.5</td><td>--</td><td>1985/06/16</td></tr>\n",
       "<tr><td>&quot;SN1988M&quot;</td><td>&quot;NGC 4496B&quot;</td><td>12:31:40.94</td><td>+3:55:22.03</td><td>II</td><td>1988/04/07</td></tr>\n",
       "<tr><td>&quot;SN386A&quot;</td><td>&quot;Milky Way&quot;</td><td>18:11:27.0</td><td>-19:25:00.0</td><td>CC</td><td>386/04/30</td></tr>\n",
       "<tr><td>&quot;SN393A&quot;</td><td>&quot;Milky Way&quot;</td><td>17:13:50.0</td><td>-39:24:60.0</td><td>CC</td><td>393/02/27</td></tr>\n",
       "<tr><td>&quot;SN837A&quot;</td><td>&quot;Milky Way&quot;</td><td>6:49:60.0</td><td>+9:00:00.0</td><td>Candidate</td><td>837/04/29</td></tr>\n",
       "</table>"
      ],
      "text/plain": [
       "<Table length=100166>\n",
       "    Name          Host           RA     ...    Type           DiscDate       \n",
       "   str41         str46         str11    ...   str19            str23         \n",
       "------------ -------------- ----------- ... --------- -----------------------\n",
       "\"SN 2022yjl\"             \"\" 22:17:58.32 ...     SN II 2022-10-22 15:08:59.136\n",
       "\"SN 2022yig\"             \"\"  5:20:21.49 ...     SN Ia 2022-10-21 06:59:41.280\n",
       "\"SN 2022yid\"      \"NGC 946\"  2:30:38.61 ...     SN Ia 2022-10-21 11:31:12.000\n",
       "\"SN 2022yhl\"             \"\"  2:27:30.97 ...     SN Ia 2022-10-21 11:46:22.656\n",
       "\"SN 2022ydl\"             \"\" 22:40:04.42 ...     SN Ia 2022-10-19 02:12:36.576\n",
       "\"SN 2022ydi\"             \"\"  1:08:00.62 ...     SN Ia 2022-10-19 09:53:19.392\n",
       "\"SN 2022ycs\"             \"\"  7:50:56.43 ...     SN II 2022-10-14 11:25:26.400\n",
       "\"SN 2022ybo\"             \"\" 10:32:16.23 ...     SN Ia 2022-10-15 11:09:36.000\n",
       "\"SN 2022ybb\"             \"\" 23:30:06.18 ...     SN Ia 2022-10-18 09:35:28.896\n",
       "\"SN 2022yaz\"             \"\"   8:27:19.6 ...     SN Ia 2022-10-18 14:54:29.952\n",
       "         ...            ...         ... ...       ...                     ...\n",
       "    \"SN185A\"    \"Milky Way\" 14:40:48.33 ...        Ia               185/12/07\n",
       "   \"SN1868A\"    \"Milky Way\"  12:48:43.5 ...        --                    1868\n",
       "   \"SN1935B\"     \"NGC 3115\" 10:05:11.34 ...        --              1935/04/01\n",
       "   \"SN1954J\"     \"NGC 2403\"  7:36:55.64 ...   II Pec?              1954/11/26\n",
       "  \"SN1982aa\"     \"NGC 6052\" 16:05:12.77 ...        --              1982/01/01\n",
       "   \"SN1985M\" \"A220830-4830\" 22:08:28.02 ...        --              1985/06/16\n",
       "   \"SN1988M\"    \"NGC 4496B\" 12:31:40.94 ...        II              1988/04/07\n",
       "    \"SN386A\"    \"Milky Way\"  18:11:27.0 ...        CC               386/04/30\n",
       "    \"SN393A\"    \"Milky Way\"  17:13:50.0 ...        CC               393/02/27\n",
       "    \"SN837A\"    \"Milky Way\"   6:49:60.0 ... Candidate               837/04/29"
      ]
     },
     "execution_count": 3,
     "metadata": {},
     "output_type": "execute_result"
    }
   ],
   "source": [
    "FullCat = '/home/maykerchen.1/Desktop/PHANGS_SNe/Data/1.FullCatalog.csv'\n",
    "SNTable = Table.read(FullCat, format='csv')\n",
    "SNTable"
   ]
  },
  {
   "cell_type": "code",
   "execution_count": 4,
   "metadata": {},
   "outputs": [],
   "source": [
    "# shorten DiscDate column to only have year\n",
    "\n",
    "DiscYear = [c[0:4] for c in SNTable[\"DiscDate\"]]\n",
    "SNTable.add_column(DiscYear, name=\"DiscYear\")\n"
   ]
  },
  {
   "cell_type": "code",
   "execution_count": 5,
   "metadata": {},
   "outputs": [
    {
     "data": {
      "text/html": [
       "<i>Table length=54839</i>\n",
       "<table id=\"table139844153127648\" class=\"table-striped table-bordered table-condensed\">\n",
       "<thead><tr><th>Name</th><th>Host</th><th>RA</th><th>Dec</th><th>Type</th><th>DiscDate</th><th>DiscYear</th></tr></thead>\n",
       "<thead><tr><th>str41</th><th>str46</th><th>str11</th><th>str12</th><th>str19</th><th>str23</th><th>str4</th></tr></thead>\n",
       "<tr><td>&quot;SN 2022yjl&quot;</td><td>&quot;&quot;</td><td>22:17:58.32</td><td>+10:59:43.14</td><td>SN II</td><td>2022-10-22 15:08:59.136</td><td>2022</td></tr>\n",
       "<tr><td>&quot;SN 2022yig&quot;</td><td>&quot;&quot;</td><td>5:20:21.49</td><td>-20:54:41.44</td><td>SN Ia</td><td>2022-10-21 06:59:41.280</td><td>2022</td></tr>\n",
       "<tr><td>&quot;SN 2022yid&quot;</td><td>&quot;NGC 946&quot;</td><td>2:30:38.61</td><td>+42:13:57.65</td><td>SN Ia</td><td>2022-10-21 11:31:12.000</td><td>2022</td></tr>\n",
       "<tr><td>&quot;SN 2022yhl&quot;</td><td>&quot;&quot;</td><td>2:27:30.97</td><td>-1:06:35.15</td><td>SN Ia</td><td>2022-10-21 11:46:22.656</td><td>2022</td></tr>\n",
       "<tr><td>&quot;SN 2022ydl&quot;</td><td>&quot;&quot;</td><td>22:40:04.42</td><td>-6:38:28.21</td><td>SN Ia</td><td>2022-10-19 02:12:36.576</td><td>2022</td></tr>\n",
       "<tr><td>&quot;SN 2022ydi&quot;</td><td>&quot;&quot;</td><td>1:08:00.62</td><td>+40:14:00.32</td><td>SN Ia</td><td>2022-10-19 09:53:19.392</td><td>2022</td></tr>\n",
       "<tr><td>&quot;SN 2022ycs&quot;</td><td>&quot;&quot;</td><td>7:50:56.43</td><td>+18:37:35.35</td><td>SN II</td><td>2022-10-14 11:25:26.400</td><td>2022</td></tr>\n",
       "<tr><td>&quot;SN 2022ybo&quot;</td><td>&quot;&quot;</td><td>10:32:16.23</td><td>+53:38:38.9</td><td>SN Ia</td><td>2022-10-15 11:09:36.000</td><td>2022</td></tr>\n",
       "<tr><td>&quot;SN 2022ybb&quot;</td><td>&quot;&quot;</td><td>23:30:06.18</td><td>+5:40:37.28</td><td>SN Ia</td><td>2022-10-18 09:35:28.896</td><td>2022</td></tr>\n",
       "<tr><td>&quot;SN 2022yaz&quot;</td><td>&quot;&quot;</td><td>8:27:19.6</td><td>-13:24:35.67</td><td>SN Ia</td><td>2022-10-18 14:54:29.952</td><td>2022</td></tr>\n",
       "<tr><td>...</td><td>...</td><td>...</td><td>...</td><td>...</td><td>...</td><td>...</td></tr>\n",
       "<tr><td>&quot;AT2020sev&quot;</td><td>&quot;&quot;</td><td>16:41:21.21</td><td>+57:08:20.5</td><td>Candidate</td><td>2020/08/18</td><td>2020</td></tr>\n",
       "<tr><td>&quot;AT2020wyy&quot;</td><td>&quot;&quot;</td><td>23:37:16.39</td><td>+53:24:56.0</td><td>Candidate</td><td>2020/10/15</td><td>2020</td></tr>\n",
       "<tr><td>&quot;AT2020xss&quot;</td><td>&quot;&quot;</td><td>5:01:52.74</td><td>+77:04:06.3</td><td>Afterglow</td><td>2020/10/20</td><td>2020</td></tr>\n",
       "<tr><td>&quot;AT2020yfl&quot;</td><td>&quot;&quot;</td><td>8:23:48.58</td><td>+3:21:13.8</td><td>Afterglow</td><td>2020/10/24</td><td>2020</td></tr>\n",
       "<tr><td>&quot;AT2021axc&quot;</td><td>&quot;&quot;</td><td>10:52:42.66</td><td>+15:23:55.0</td><td>Candidate</td><td>2021/01/20</td><td>2021</td></tr>\n",
       "<tr><td>&quot;AT2021dw&quot;</td><td>&quot;&quot;</td><td>7:21:42.31</td><td>+38:02:34.26</td><td>Afterglow</td><td>2021/02/04</td><td>2021</td></tr>\n",
       "<tr><td>&quot;AT2021qlb&quot;</td><td>&quot;&quot;</td><td>21:18:52.37</td><td>+33:51:01.6</td><td>Afterglow</td><td>2021/06/20</td><td>2021</td></tr>\n",
       "<tr><td>&quot;AT2021tpw&quot;</td><td>&quot;&quot;</td><td>20:53:57.98</td><td>-53:08:20.3</td><td>Afterglow</td><td>2021/07/14</td><td>2021</td></tr>\n",
       "<tr><td>&quot;AT2021waa&quot;</td><td>&quot;&quot;</td><td>23:41:59.18</td><td>-25:31:36.0</td><td>Afterglow</td><td>2021/08/15</td><td>2021</td></tr>\n",
       "<tr><td>&quot;AT2021wty&quot;</td><td>&quot;&quot;</td><td>12:32:52.48</td><td>-64:12:30.2</td><td>Afterglow</td><td>2021/07/27</td><td>2021</td></tr>\n",
       "</table>"
      ],
      "text/plain": [
       "<Table length=54839>\n",
       "    Name        Host        RA     ...         DiscDate        DiscYear\n",
       "   str41       str46      str11    ...          str23            str4  \n",
       "------------ --------- ----------- ... ----------------------- --------\n",
       "\"SN 2022yjl\"        \"\" 22:17:58.32 ... 2022-10-22 15:08:59.136     2022\n",
       "\"SN 2022yig\"        \"\"  5:20:21.49 ... 2022-10-21 06:59:41.280     2022\n",
       "\"SN 2022yid\" \"NGC 946\"  2:30:38.61 ... 2022-10-21 11:31:12.000     2022\n",
       "\"SN 2022yhl\"        \"\"  2:27:30.97 ... 2022-10-21 11:46:22.656     2022\n",
       "\"SN 2022ydl\"        \"\" 22:40:04.42 ... 2022-10-19 02:12:36.576     2022\n",
       "\"SN 2022ydi\"        \"\"  1:08:00.62 ... 2022-10-19 09:53:19.392     2022\n",
       "\"SN 2022ycs\"        \"\"  7:50:56.43 ... 2022-10-14 11:25:26.400     2022\n",
       "\"SN 2022ybo\"        \"\" 10:32:16.23 ... 2022-10-15 11:09:36.000     2022\n",
       "\"SN 2022ybb\"        \"\" 23:30:06.18 ... 2022-10-18 09:35:28.896     2022\n",
       "\"SN 2022yaz\"        \"\"   8:27:19.6 ... 2022-10-18 14:54:29.952     2022\n",
       "         ...       ...         ... ...                     ...      ...\n",
       " \"AT2020sev\"        \"\" 16:41:21.21 ...              2020/08/18     2020\n",
       " \"AT2020wyy\"        \"\" 23:37:16.39 ...              2020/10/15     2020\n",
       " \"AT2020xss\"        \"\"  5:01:52.74 ...              2020/10/20     2020\n",
       " \"AT2020yfl\"        \"\"  8:23:48.58 ...              2020/10/24     2020\n",
       " \"AT2021axc\"        \"\" 10:52:42.66 ...              2021/01/20     2021\n",
       "  \"AT2021dw\"        \"\"  7:21:42.31 ...              2021/02/04     2021\n",
       " \"AT2021qlb\"        \"\" 21:18:52.37 ...              2021/06/20     2021\n",
       " \"AT2021tpw\"        \"\" 20:53:57.98 ...              2021/07/14     2021\n",
       " \"AT2021waa\"        \"\" 23:41:59.18 ...              2021/08/15     2021\n",
       " \"AT2021wty\"        \"\" 12:32:52.48 ...              2021/07/27     2021"
      ]
     },
     "execution_count": 5,
     "metadata": {},
     "output_type": "execute_result"
    }
   ],
   "source": [
    "# remove rows of SNTable that have year < year chosen\n",
    "\n",
    "mask = (SNTable[\"DiscYear\"] > PREVIOUS_YEAR) & (SNTable[\"DiscYear\"] < FUTURE_YEAR) \n",
    "SNRecent = SNTable[mask] \n",
    "\n",
    "SNRecent\n"
   ]
  },
  {
   "cell_type": "code",
   "execution_count": 8,
   "metadata": {},
   "outputs": [],
   "source": [
    "fileName = \"../Data/2.RecentSNTable\" + CUTOFF_YEAR + \".csv\"\n",
    "SNRecent.write(fileName, overwrite = True)\n"
   ]
  },
  {
   "cell_type": "code",
   "execution_count": null,
   "metadata": {},
   "outputs": [],
   "source": []
  },
  {
   "cell_type": "code",
   "execution_count": null,
   "metadata": {},
   "outputs": [],
   "source": []
  }
 ],
 "metadata": {
  "kernelspec": {
   "display_name": "Python 3",
   "language": "python",
   "name": "python3"
  },
  "language_info": {
   "codemirror_mode": {
    "name": "ipython",
    "version": 3
   },
   "file_extension": ".py",
   "mimetype": "text/x-python",
   "name": "python",
   "nbconvert_exporter": "python",
   "pygments_lexer": "ipython3",
   "version": "3.8.10"
  }
 },
 "nbformat": 4,
 "nbformat_minor": 2
}
