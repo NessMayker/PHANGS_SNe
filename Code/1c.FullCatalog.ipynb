{
 "cells": [
  {
   "cell_type": "markdown",
   "id": "3147b3e1",
   "metadata": {},
   "source": [
    "Makes the full SN catalog by combining OSC and TNS.\n",
    "\n",
    "\n",
    "Note: When we have a duplicate between TNS and OSC, we trust the OSC entry more. This fixed a problematic type classification for 1983V in NGC1365, but we recommend looking checking the type classifications by hand."
   ]
  },
  {
   "cell_type": "markdown",
   "id": "6384560e",
   "metadata": {},
   "source": [
    "OSC column names: \"Name\",\"Disc. Date\",\"mmax\",\"Host Name\",\"R.A.\",\"Dec.\",\"Type\",\"Phot.\",\"Spec.\",\"Radio\",\"X-ray\"\n",
    "\n",
    "TNS column names: \"ID\",\"Name\",\"RA\",\"DEC\",\"Ob\n",
    "j. Type\",\"Redshift\",\"Host Name\",\"Host Redshift\",\"Reporting Group/s\",\n",
    "\"Discovery Data Source/s\",\"Classifying Group/s\",\"Associated Group/s\",\"Disc. Internal Name\",\"Disc. Instrument/s\",\n",
    "\"Class. Instrument/s\",\"TNS AT\",\"Public\",\"End Prop. Period\",\"Discovery Mag/Flux\",\"Discovery Filter\",\"Discovery\n",
    "Date (UT)\",\"Sender\",\"Remarks\",\"Discovery Bibcode\",\"Classification Bibcodes\",\"Ext. catalog/s\"\n"
   ]
  },
  {
   "cell_type": "code",
   "execution_count": 1,
   "id": "c5da531d",
   "metadata": {},
   "outputs": [],
   "source": [
    "# IMPORT PACKAGES\n",
    "import numpy as np\n",
    "from matplotlib import pyplot as plt\n",
    "import astropy.io.fits as pyfits\n",
    "from astropy.table import Table, vstack, unique\n",
    "from astropy.wcs import WCS\n",
    "from astropy.io import ascii\n",
    "import astropy\n",
    "from astropy.io import fits\n"
   ]
  },
  {
   "cell_type": "code",
   "execution_count": 2,
   "id": "d7fddbf2",
   "metadata": {
    "scrolled": true
   },
   "outputs": [],
   "source": [
    "# Prep catalog\n",
    "\n",
    "OSC_File = '../Data/1.OSCCleaned.csv'\n",
    "OSC_Sample = Table.read(OSC_File, format='csv') \n",
    "\n",
    "TNS_File = '../Data/1.TNSCleaned.csv'\n",
    "TNS_Sample = Table.read(TNS_File, format='csv')\n",
    "\n",
    "SN_Cat = vstack([TNS_Sample, OSC_Sample], join_type=\"exact\") # tables must all have exactly the same column names\n"
   ]
  },
  {
   "cell_type": "code",
   "execution_count": 3,
   "id": "23094285",
   "metadata": {},
   "outputs": [
    {
     "data": {
      "text/html": [
       "<i>Table length=2</i>\n",
       "<table id=\"table139981933548592\" class=\"table-striped table-bordered table-condensed\">\n",
       "<thead><tr><th>Name</th><th>Host</th><th>RA hms</th><th>Dec dms</th><th>RA dds</th><th>Dec dds</th><th>Type</th><th>DiscDate</th></tr></thead>\n",
       "<thead><tr><th>str36</th><th>str46</th><th>str11</th><th>str12</th><th>float64</th><th>float64</th><th>str19</th><th>str23</th></tr></thead>\n",
       "<tr><td>SN2023A</td><td>&quot;&quot;</td><td>12:29:56.48</td><td>+2:52:58.97</td><td>187.48534166666664</td><td>2.8830472222222223</td><td>Ia</td><td>2023-01-01 01:10:00.768</td></tr>\n",
       "<tr><td>SN2022aefd</td><td>&quot;&quot;</td><td>8:16:56.38</td><td>-7:15:24.63</td><td>124.23491666666668</td><td>-7.256841666666666</td><td>Ia</td><td>2022-12-30 05:14:08.160</td></tr>\n",
       "</table>"
      ],
      "text/plain": [
       "<Table length=2>\n",
       "   Name     Host    RA hms   ...  Type         DiscDate       \n",
       "  str36    str46    str11    ... str19          str23         \n",
       "---------- ----- ----------- ... ----- -----------------------\n",
       "   SN2023A    \"\" 12:29:56.48 ...    Ia 2023-01-01 01:10:00.768\n",
       "SN2022aefd    \"\"  8:16:56.38 ...    Ia 2022-12-30 05:14:08.160"
      ]
     },
     "execution_count": 3,
     "metadata": {},
     "output_type": "execute_result"
    }
   ],
   "source": [
    "SN_Cat[0:2]"
   ]
  },
  {
   "cell_type": "code",
   "execution_count": 4,
   "id": "803f361a",
   "metadata": {},
   "outputs": [
    {
     "data": {
      "text/html": [
       "<i>Table length=40838</i>\n",
       "<table id=\"table139981857239296\" class=\"table-striped table-bordered table-condensed\">\n",
       "<thead><tr><th>Name</th><th>Type</th><th>Host</th><th>RA hms</th><th>Dec dms</th><th>RA dds</th><th>Dec dds</th><th>DiscDate</th></tr></thead>\n",
       "<thead><tr><th>str27</th><th>str19</th><th>str44</th><th>str11</th><th>str12</th><th>float64</th><th>float64</th><th>str23</th></tr></thead>\n",
       "<tr><td>SN2023A</td><td>Ia</td><td></td><td>12:29:56.48</td><td>+2:52:58.97</td><td>187.48534166666664</td><td>2.8830472222222223</td><td>2023-01-01 01:10:00.768</td></tr>\n",
       "<tr><td>SN2022aefd</td><td>Ia</td><td></td><td>8:16:56.38</td><td>-7:15:24.63</td><td>124.23491666666668</td><td>-7.256841666666666</td><td>2022-12-30 05:14:08.160</td></tr>\n",
       "<tr><td>SN2022aeef</td><td>Ia-91T-like</td><td></td><td>9:18:33.87</td><td>+4:11:16.48</td><td>139.64112500000002</td><td>4.187911111111111</td><td>2022-12-30 06:35:47.040</td></tr>\n",
       "<tr><td>SN2022aeee</td><td>Ia-91T-like</td><td></td><td>8:17:17.96</td><td>-3:24:01.8</td><td>124.3248375</td><td>-3.4005</td><td>2022-12-30 05:26:27.744</td></tr>\n",
       "<tr><td>SN2022aeed</td><td>Ia</td><td></td><td>4:07:33.98</td><td>-31:28:18.96</td><td>61.891566666666655</td><td>-31.471933333333332</td><td>2022-12-29 03:16:45.696</td></tr>\n",
       "<tr><td>SN2022aeeb</td><td>Ia-pec</td><td></td><td>8:29:59.96</td><td>-20:33:49.89</td><td>127.49981666666666</td><td>-20.563858333333336</td><td>2022-12-30 00:54:57.888</td></tr>\n",
       "<tr><td>SN2022aedv</td><td>Ia</td><td></td><td>2:54:02.1</td><td>+50:39:18.71</td><td>43.50875</td><td>50.65519722222222</td><td>2022-12-21 06:51:29.664</td></tr>\n",
       "<tr><td>SN2022aedu</td><td>SN</td><td>NGC7769</td><td>23:51:04.09</td><td>+20:09:20.8</td><td>357.7670416666667</td><td>20.155777777777775</td><td>2022-12-31 09:13:24.000</td></tr>\n",
       "<tr><td>SN2022aedr</td><td>Ia</td><td></td><td>10:42:42.59</td><td>+14:19:39.91</td><td>160.6774708333333</td><td>14.327752777777777</td><td>2022-12-17 11:39:51.264</td></tr>\n",
       "<tr><td>SN2022aedn</td><td>Ia</td><td></td><td>10:43:26.64</td><td>+15:54:16.26</td><td>160.86100000000002</td><td>15.904516666666668</td><td>2022-12-30 08:25:55.776</td></tr>\n",
       "<tr><td>...</td><td>...</td><td>...</td><td>...</td><td>...</td><td>...</td><td>...</td><td>...</td></tr>\n",
       "<tr><td>SN2017htp</td><td>Ic BL</td><td></td><td>4:26:19.46</td><td>-10:27:45.9</td><td>66.58108333333334</td><td>-10.46275</td><td>2017/11/01</td></tr>\n",
       "<tr><td>SN2018ffj</td><td>SLSN-I</td><td></td><td>2:30:59.77</td><td>-17:20:26.82</td><td>37.74904166666667</td><td>-17.34078333333333</td><td>2018/08/07</td></tr>\n",
       "<tr><td>SN2018fip</td><td>Ic BL</td><td></td><td>16:54:15.75</td><td>-54:02:39.27</td><td>253.56562499999998</td><td>-54.044241666666665</td><td>2018/07/28</td></tr>\n",
       "<tr><td>ASASSN-20qi</td><td>Ia</td><td>WISEA J113808.29-325108.4</td><td>11:38:08.4</td><td>-32:51:07.92</td><td>174.53499999999997</td><td>-32.8522</td><td>2020/12/22</td></tr>\n",
       "<tr><td>SN1181A</td><td>CC?</td><td>Milky Way</td><td>2:05:50.5</td><td>+64:48:60.0</td><td>31.460416666666667</td><td>64.81666666666666</td><td>1181/08/13</td></tr>\n",
       "<tr><td>SN185A</td><td>Ia</td><td>Milky Way</td><td>14:40:48.33</td><td>-61:51:20.0</td><td>220.2013888888889</td><td>-61.855555555555554</td><td>185/12/07</td></tr>\n",
       "<tr><td>SN1954J</td><td>II Pec?</td><td>NGC 2403</td><td>7:36:55.64</td><td>+65:37:52.17</td><td>114.23183472222222</td><td>65.6311574074074</td><td>1954/11/26</td></tr>\n",
       "<tr><td>SN1988M</td><td>II</td><td>NGC 4496B</td><td>12:31:40.94</td><td>+3:55:22.03</td><td>187.92059375000002</td><td>3.922786666666666</td><td>1988/04/07</td></tr>\n",
       "<tr><td>SN386A</td><td>CC</td><td>Milky Way</td><td>18:11:27.0</td><td>-19:25:00.0</td><td>272.8625</td><td>-19.416666666666668</td><td>386/04/30</td></tr>\n",
       "<tr><td>SN393A</td><td>CC</td><td>Milky Way</td><td>17:13:50.0</td><td>-39:24:60.0</td><td>258.4583333333333</td><td>-39.416666666666664</td><td>393/02/27</td></tr>\n",
       "</table>"
      ],
      "text/plain": [
       "<Table length=40838>\n",
       "    Name        Type    ...       Dec dds               DiscDate       \n",
       "   str27       str19    ...       float64                str23         \n",
       "----------- ----------- ... ------------------- -----------------------\n",
       "    SN2023A          Ia ...  2.8830472222222223 2023-01-01 01:10:00.768\n",
       " SN2022aefd          Ia ...  -7.256841666666666 2022-12-30 05:14:08.160\n",
       " SN2022aeef Ia-91T-like ...   4.187911111111111 2022-12-30 06:35:47.040\n",
       " SN2022aeee Ia-91T-like ...             -3.4005 2022-12-30 05:26:27.744\n",
       " SN2022aeed          Ia ... -31.471933333333332 2022-12-29 03:16:45.696\n",
       " SN2022aeeb      Ia-pec ... -20.563858333333336 2022-12-30 00:54:57.888\n",
       " SN2022aedv          Ia ...   50.65519722222222 2022-12-21 06:51:29.664\n",
       " SN2022aedu          SN ...  20.155777777777775 2022-12-31 09:13:24.000\n",
       " SN2022aedr          Ia ...  14.327752777777777 2022-12-17 11:39:51.264\n",
       " SN2022aedn          Ia ...  15.904516666666668 2022-12-30 08:25:55.776\n",
       "        ...         ... ...                 ...                     ...\n",
       "  SN2017htp       Ic BL ...           -10.46275              2017/11/01\n",
       "  SN2018ffj      SLSN-I ...  -17.34078333333333              2018/08/07\n",
       "  SN2018fip       Ic BL ... -54.044241666666665              2018/07/28\n",
       "ASASSN-20qi          Ia ...            -32.8522              2020/12/22\n",
       "    SN1181A         CC? ...   64.81666666666666              1181/08/13\n",
       "     SN185A          Ia ... -61.855555555555554               185/12/07\n",
       "    SN1954J     II Pec? ...    65.6311574074074              1954/11/26\n",
       "    SN1988M          II ...   3.922786666666666              1988/04/07\n",
       "     SN386A          CC ... -19.416666666666668               386/04/30\n",
       "     SN393A          CC ... -39.416666666666664               393/02/27"
      ]
     },
     "execution_count": 4,
     "metadata": {},
     "output_type": "execute_result"
    }
   ],
   "source": [
    "types = []\n",
    "[types.append(x) for x in SN_Cat[\"Type\"] if x not in types]\n",
    "\n",
    "OKTypes = ['Ia','II','Ia-91bg','IIb','Ia Pec','IIn','Ibn','Ic','II P','Ib','II Pec','Ia CSM','Ic Pec','IIn Pec',\n",
    "           'Ia-09dc','Ia-91T','IIn-09ip','Ic BL','Ia-02cx','SLSN?','Ib/c','Ib/IIb','NT','BL','SLSN-I','I','II L',\n",
    "           'II/IIb','Ia-11kx','Ia-99aa','Ib-18cow','Iz','IIn/LBV','SLSN-II','CC','Ib Pec','Ic-lum?','IIb?','II?',\n",
    "           'Ia?','SLSN','SLSN-I?','Ib/c?','SLSN-II?','PISN?','Ic?','IIn?','Ib-IIb','Lensed SN Ia','II L?','Ii',\n",
    "           'II-p','II/LBV','Ia/c','I-faint','SLSN-I-R','II/Ib/c','Ib-Ca','Ca-rich','CC?','II Pec?','Pec','Ia*',\n",
    "           'I?','II P?','nIa','Ia-HV','II/Ic','II P Pec','IIb/Ib/Ic (Ca rich)','Ib/Ic (Ca rich)','Ic/Ic-BL',\n",
    "           'Ib/Ic (Ca rich?)?','Ib (Ca rich)','Ibn/IIbn','Ib/Ic','.Ia','IIn-pec/LBV','IIb/Ib/Ic', \n",
    "           'Super-Luminous Ic','Ia Pec?','Ia-pec.','.IaPec','IIP','IIn/Ibn','BL-Ic','.IIP','Ib/c-BL','LBV to IIn'\n",
    "           ,'Ia-p','II-09ip','I Pec','Ia-91bg-like','Ic-BL','Ia-02ic-like','Ia-CSM/IIn','SLSN-IIn',\n",
    "           'Iax[02cx-like]','Ib-pec','.II','Ia/Ic','Ib-Ca-rich','Ia/b','SNSN-II','Ia-91T-like','Icn','LBV/IIn',\n",
    "           'Iazhost=0.088376)','IIn-pec','Ia-CSM','SN','Ia-SC','Ia-pec','Ia-00cx','II-pec','Ibn/Icn','Ic-pec',\n",
    "           'SLSN-R','IIb/Ib']\n",
    "\n",
    "notOKTypes = ['Unclassified', 'Candidate','Comet', 'Galaxy','AGN','Dwarf', 'LPV','removed','LSQ','Other','other',\n",
    "              'NLSy1','Afterglow?','GRB','Afterglow','LRN','PNV','Afterflow','LGRB','blue','XRB','maser',\n",
    "              'CV','Star','Wolf-Rayet','Be','LBV','Jovan','DN','CN','dwarf','uconfirmed','Radio',\n",
    "              'Variable','~','LRT','TDE','ulense', 'LCH', 'Candidate?', 'LRV?']\n",
    "\n",
    "nm,r, d, tp, dd,h, rhms, ddms = [],[],[],[],[],[],[],[]\n",
    "\n",
    "\n",
    "for i in range(len(SN_Cat)):\n",
    "    if SN_Cat[\"Type\"][i] in OKTypes:\n",
    "        nm.append(SN_Cat['Name'][i])\n",
    "        h.append(SN_Cat['Host'][i].strip('\"'))\n",
    "        rhms.append(SN_Cat['RA hms'][i])\n",
    "        ddms.append(SN_Cat['Dec dms'][i])\n",
    "        r.append(SN_Cat['RA dds'][i])\n",
    "        d.append(SN_Cat['Dec dds'][i])\n",
    "        tp.append(SN_Cat['Type'][i])\n",
    "        dd.append(SN_Cat['DiscDate'][i])\n",
    "\n",
    "        \n",
    "Typed_SN_Cat = Table({\"Name\":nm,\n",
    "              \"Type\":tp,\n",
    "              \"Host\":h,\n",
    "              \"RA hms\":rhms,\n",
    "              \"Dec dms\":ddms,                     \n",
    "              \"RA dds\":r,\n",
    "              \"Dec dds\":d,\n",
    "              \"DiscDate\":dd})\n",
    "\n",
    "Typed_SN_Cat"
   ]
  },
  {
   "cell_type": "code",
   "execution_count": 5,
   "id": "7e243c28",
   "metadata": {},
   "outputs": [
    {
     "data": {
      "text/html": [
       "<i>Table length=27116</i>\n",
       "<table id=\"table139982724619712\" class=\"table-striped table-bordered table-condensed\">\n",
       "<thead><tr><th>Name</th><th>Type</th><th>Host</th><th>RA hms</th><th>Dec dms</th><th>RA dds</th><th>Dec dds</th><th>DiscDate</th></tr></thead>\n",
       "<thead><tr><th>str27</th><th>str19</th><th>str44</th><th>str11</th><th>str12</th><th>float64</th><th>float64</th><th>str23</th></tr></thead>\n",
       "<tr><td>2018inf</td><td>Ia</td><td>MCG +07-28-26</td><td>13:31:56.1</td><td>+44:08:21.69</td><td>202.98375000000001</td><td>44.139358333333334</td><td>2018/11/15</td></tr>\n",
       "<tr><td>A2021ymb</td><td>Ia</td><td></td><td>0:20:51.16</td><td>-32:51:24.88</td><td>5.21315</td><td>-32.85691111111111</td><td>2021/09/08</td></tr>\n",
       "<tr><td>ASASSN-13av</td><td>Ia</td><td>NGC 7068</td><td>21:26:31.92</td><td>+12:10:48.72</td><td>321.633</td><td>12.1802</td><td>2013/06/26</td></tr>\n",
       "<tr><td>ASASSN-13ch</td><td>Ia</td><td>CGCG 023-030</td><td>16:16:34.07</td><td>-0:35:27.36</td><td>244.14195833333332</td><td>-0.5909322222222222</td><td>2013/08/28</td></tr>\n",
       "<tr><td>ASASSN-13cj</td><td>Ia</td><td>CGCG 051-075</td><td>16:17:11.03</td><td>+4:33:14.69</td><td>244.29593749999998</td><td>4.554081666666667</td><td>2013/08/27</td></tr>\n",
       "<tr><td>ASASSN-13co</td><td>II</td><td>CGCG 402-014</td><td>21:40:38.63</td><td>+6:30:36.71</td><td>325.1609444444445</td><td>6.510197222222222</td><td>2013/08/29</td></tr>\n",
       "<tr><td>ASASSN-13cp</td><td>Ia</td><td>CGCG 136-015</td><td>15:33:49.23</td><td>+21:08:21.39</td><td>233.45510555555555</td><td>21.139274999999998</td><td>2013/08/30</td></tr>\n",
       "<tr><td>ASASSN-13cu</td><td>Ia</td><td>PGC 2414</td><td>0:40:10.06</td><td>-10:26:24.47</td><td>10.041927777777778</td><td>-10.440129629629629</td><td>2013/09/01</td></tr>\n",
       "<tr><td>ASASSN-13dd</td><td>Ia</td><td>NGC 2765</td><td>9:07:36.73</td><td>+3:23:39.11</td><td>136.90306249999998</td><td>3.3941970370370367</td><td>2013/09/24</td></tr>\n",
       "<tr><td>ASASSN-13dl</td><td>Ia</td><td>Unknown</td><td>7:38:49.39</td><td>+58:12:43.47</td><td>114.70580555555556</td><td>58.21207592592592</td><td>2013/10/10</td></tr>\n",
       "<tr><td>...</td><td>...</td><td>...</td><td>...</td><td>...</td><td>...</td><td>...</td><td>...</td></tr>\n",
       "<tr><td>iPTF16bad</td><td>SLSN-I</td><td></td><td>17:16:39.73</td><td>+28:22:12.6</td><td>259.1655416666666</td><td>28.370166666666666</td><td>2016/05/31</td></tr>\n",
       "<tr><td>iPTF16fjg</td><td>Ia</td><td></td><td>22:08:31.35</td><td>+20:40:46.69</td><td>332.130625</td><td>20.67963611111111</td><td>2016/08/26</td></tr>\n",
       "<tr><td>iPTF16fmc</td><td>Ia</td><td></td><td>21:37:32.53</td><td>+20:55:29.02</td><td>324.38554166666665</td><td>20.92472777777778</td><td>2016/08/28</td></tr>\n",
       "<tr><td>iPTF16fmd</td><td>Ia</td><td></td><td>21:46:44.19</td><td>+8:55:53.55</td><td>326.684125</td><td>8.931541666666666</td><td>2016/08/28</td></tr>\n",
       "<tr><td>iPTF16fsc</td><td>Ia</td><td></td><td>2:24:28.34</td><td>+32:51:30.69</td><td>36.11808333333333</td><td>32.858525</td><td>2016/09/04</td></tr>\n",
       "<tr><td>iPTF16gyl</td><td>Ia</td><td></td><td>0:42:53.12</td><td>+7:01:41.78</td><td>10.721333333333332</td><td>7.028272222222222</td><td>2016/10/07</td></tr>\n",
       "<tr><td>iPTF16hcn</td><td>Ia</td><td></td><td>22:08:01.33</td><td>+30:46:27.95</td><td>332.00554166666666</td><td>30.774430555555554</td><td>2016/10/12</td></tr>\n",
       "<tr><td>iPTF16hrx</td><td>Ia</td><td></td><td>1:23:54.57</td><td>+38:51:01.99</td><td>20.977375000000002</td><td>38.85055277777778</td><td>2016/11/02</td></tr>\n",
       "<tr><td>iPTF16ijw</td><td>Ia</td><td></td><td>23:36:51.33</td><td>+20:43:23.69</td><td>354.21387500000003</td><td>20.72324722222222</td><td>2016/11/23</td></tr>\n",
       "<tr><td>iPTF16isi</td><td>Ia</td><td></td><td>1:20:47.43</td><td>+42:42:13.63</td><td>20.197645833333333</td><td>42.703786111111114</td><td>2016/12/06</td></tr>\n",
       "</table>"
      ],
      "text/plain": [
       "<Table length=27116>\n",
       "    Name     Type       Host     ...       Dec dds        DiscDate \n",
       "   str27    str19      str44     ...       float64         str23   \n",
       "----------- ------ ------------- ... ------------------- ----------\n",
       "    2018inf     Ia MCG +07-28-26 ...  44.139358333333334 2018/11/15\n",
       "   A2021ymb     Ia               ...  -32.85691111111111 2021/09/08\n",
       "ASASSN-13av     Ia      NGC 7068 ...             12.1802 2013/06/26\n",
       "ASASSN-13ch     Ia  CGCG 023-030 ... -0.5909322222222222 2013/08/28\n",
       "ASASSN-13cj     Ia  CGCG 051-075 ...   4.554081666666667 2013/08/27\n",
       "ASASSN-13co     II  CGCG 402-014 ...   6.510197222222222 2013/08/29\n",
       "ASASSN-13cp     Ia  CGCG 136-015 ...  21.139274999999998 2013/08/30\n",
       "ASASSN-13cu     Ia      PGC 2414 ... -10.440129629629629 2013/09/01\n",
       "ASASSN-13dd     Ia      NGC 2765 ...  3.3941970370370367 2013/09/24\n",
       "ASASSN-13dl     Ia       Unknown ...   58.21207592592592 2013/10/10\n",
       "        ...    ...           ... ...                 ...        ...\n",
       "  iPTF16bad SLSN-I               ...  28.370166666666666 2016/05/31\n",
       "  iPTF16fjg     Ia               ...   20.67963611111111 2016/08/26\n",
       "  iPTF16fmc     Ia               ...   20.92472777777778 2016/08/28\n",
       "  iPTF16fmd     Ia               ...   8.931541666666666 2016/08/28\n",
       "  iPTF16fsc     Ia               ...           32.858525 2016/09/04\n",
       "  iPTF16gyl     Ia               ...   7.028272222222222 2016/10/07\n",
       "  iPTF16hcn     Ia               ...  30.774430555555554 2016/10/12\n",
       "  iPTF16hrx     Ia               ...   38.85055277777778 2016/11/02\n",
       "  iPTF16ijw     Ia               ...   20.72324722222222 2016/11/23\n",
       "  iPTF16isi     Ia               ...  42.703786111111114 2016/12/06"
      ]
     },
     "execution_count": 5,
     "metadata": {},
     "output_type": "execute_result"
    }
   ],
   "source": [
    "SNUnique = unique(Typed_SN_Cat, keys = \"Name\", keep = 'last')\n",
    "\n",
    "SNUnique"
   ]
  },
  {
   "cell_type": "code",
   "execution_count": 6,
   "id": "3e606e19",
   "metadata": {},
   "outputs": [],
   "source": [
    "ascii.write(SNUnique, \"../Data/1.FullCatalog.csv\", format='csv', fast_writer=False, overwrite=True)  "
   ]
  },
  {
   "cell_type": "code",
   "execution_count": null,
   "id": "05bc7ee0",
   "metadata": {},
   "outputs": [],
   "source": []
  },
  {
   "cell_type": "code",
   "execution_count": null,
   "id": "2c7542da",
   "metadata": {},
   "outputs": [],
   "source": []
  }
 ],
 "metadata": {
  "kernelspec": {
   "display_name": "Python 3",
   "language": "python",
   "name": "python3"
  },
  "language_info": {
   "codemirror_mode": {
    "name": "ipython",
    "version": 3
   },
   "file_extension": ".py",
   "mimetype": "text/x-python",
   "name": "python",
   "nbconvert_exporter": "python",
   "pygments_lexer": "ipython3",
   "version": "3.8.10"
  }
 },
 "nbformat": 4,
 "nbformat_minor": 5
}
