{
 "cells": [
  {
   "cell_type": "markdown",
   "id": "3147b3e1",
   "metadata": {},
   "source": [
    "Makes the full SN catalog by combining OSC and TNS.\n",
    "\n",
    "\n",
    "Note: When we have a duplicate between TNS and OSC, we trust the OSC entry more. This fixed a problematic type classification for 1983V in NGC1365, but we recommend looking checking the type classifications by hand."
   ]
  },
  {
   "cell_type": "markdown",
   "id": "6384560e",
   "metadata": {},
   "source": [
    "OSC column names: \"Name\",\"Disc. Date\",\"mmax\",\"Host Name\",\"R.A.\",\"Dec.\",\"Type\",\"Phot.\",\"Spec.\",\"Radio\",\"X-ray\"\n",
    "\n",
    "TNS column names: \"ID\",\"Name\",\"RA\",\"DEC\",\"Ob\n",
    "j. Type\",\"Redshift\",\"Host Name\",\"Host Redshift\",\"Reporting Group/s\",\n",
    "\"Discovery Data Source/s\",\"Classifying Group/s\",\"Associated Group/s\",\"Disc. Internal Name\",\"Disc. Instrument/s\",\n",
    "\"Class. Instrument/s\",\"TNS AT\",\"Public\",\"End Prop. Period\",\"Discovery Mag/Flux\",\"Discovery Filter\",\"Discovery\n",
    "Date (UT)\",\"Sender\",\"Remarks\",\"Discovery Bibcode\",\"Classification Bibcodes\",\"Ext. catalog/s\"\n"
   ]
  },
  {
   "cell_type": "code",
   "execution_count": 1,
   "id": "c5da531d",
   "metadata": {},
   "outputs": [],
   "source": [
    "# IMPORT PACKAGES\n",
    "import numpy as np\n",
    "from matplotlib import pyplot as plt\n",
    "import astropy.io.fits as pyfits\n",
    "from astropy.table import Table, vstack, unique\n",
    "from astropy.wcs import WCS\n",
    "from astropy.io import ascii\n",
    "import astropy\n",
    "from astropy.io import fits\n"
   ]
  },
  {
   "cell_type": "code",
   "execution_count": 2,
   "id": "d7fddbf2",
   "metadata": {
    "scrolled": true
   },
   "outputs": [],
   "source": [
    "# Prep catalog\n",
    "\n",
    "OSC_File = '../Data/1.OSCCleaned.csv'\n",
    "OSC_Sample = Table.read(OSC_File, format='csv') \n",
    "\n",
    "TNS_File = '../Data/1.TNSCleaned.csv'\n",
    "TNS_Sample = Table.read(TNS_File, format='csv')\n",
    "\n",
    "SN_Cat = vstack([TNS_Sample, OSC_Sample], join_type=\"exact\") # tables must all have exactly the same column names\n"
   ]
  },
  {
   "cell_type": "code",
   "execution_count": 3,
   "id": "23094285",
   "metadata": {},
   "outputs": [
    {
     "data": {
      "text/html": [
       "<div><i>Table length=2</i>\n",
       "<table id=\"table140479574638064\" class=\"table-striped table-bordered table-condensed\">\n",
       "<thead><tr><th>Name</th><th>Host</th><th>RA hms</th><th>Dec dms</th><th>RA dds</th><th>Dec dds</th><th>Type</th><th>DiscDate</th></tr></thead>\n",
       "<thead><tr><th>str36</th><th>str46</th><th>str11</th><th>str12</th><th>float64</th><th>float64</th><th>str19</th><th>str23</th></tr></thead>\n",
       "<tr><td>SN2023dul</td><td>&quot;&quot;</td><td>7:30:19.94</td><td>+40:57:38.24</td><td>112.58307916666668</td><td>40.96062222222223</td><td>Ia</td><td>2023-03-21 06:33:42.624</td></tr>\n",
       "<tr><td>SN2023dtd</td><td>&quot;&quot;</td><td>13:40:19.14</td><td>-23:51:11.58</td><td>205.07973749999996</td><td>-23.85321666666667</td><td>II</td><td>2023-03-20 05:30:58.176</td></tr>\n",
       "</table></div>"
      ],
      "text/plain": [
       "<Table length=2>\n",
       "   Name    Host    RA hms   ...  Type         DiscDate       \n",
       "  str36   str46    str11    ... str19          str23         \n",
       "--------- ----- ----------- ... ----- -----------------------\n",
       "SN2023dul    \"\"  7:30:19.94 ...    Ia 2023-03-21 06:33:42.624\n",
       "SN2023dtd    \"\" 13:40:19.14 ...    II 2023-03-20 05:30:58.176"
      ]
     },
     "execution_count": 3,
     "metadata": {},
     "output_type": "execute_result"
    }
   ],
   "source": [
    "SN_Cat[0:2]"
   ]
  },
  {
   "cell_type": "code",
   "execution_count": 4,
   "id": "803f361a",
   "metadata": {},
   "outputs": [
    {
     "data": {
      "text/html": [
       "<div><i>Table length=50119</i>\n",
       "<table id=\"table140479625179824\" class=\"table-striped table-bordered table-condensed\">\n",
       "<thead><tr><th>Name</th><th>Type</th><th>Host</th><th>RA hms</th><th>Dec dms</th><th>RA dds</th><th>Dec dds</th><th>DiscDate</th></tr></thead>\n",
       "<thead><tr><th>str36</th><th>str19</th><th>str44</th><th>str11</th><th>str12</th><th>float64</th><th>float64</th><th>str23</th></tr></thead>\n",
       "<tr><td>SN2023dul</td><td>Ia</td><td></td><td>7:30:19.94</td><td>+40:57:38.24</td><td>112.58307916666668</td><td>40.96062222222223</td><td>2023-03-21 06:33:42.624</td></tr>\n",
       "<tr><td>SN2023dtd</td><td>II</td><td></td><td>13:40:19.14</td><td>-23:51:11.58</td><td>205.07973749999996</td><td>-23.85321666666667</td><td>2023-03-20 05:30:58.176</td></tr>\n",
       "<tr><td>SN2023dtc</td><td>Ib</td><td></td><td>8:33:17.57</td><td>-22:57:45.03</td><td>128.32322916666666</td><td>-22.962508333333332</td><td>2023-03-20 02:48:13.248</td></tr>\n",
       "<tr><td>SN2023dof</td><td>Ia</td><td></td><td>5:30:14.52</td><td>-8:45:51.21</td><td>82.56047916666667</td><td>-8.764225</td><td>2023-03-17 17:58:25.824</td></tr>\n",
       "<tr><td>SN2023dgp</td><td>Ia-91T-like</td><td></td><td>18:04:52.13</td><td>+46:32:44.1</td><td>271.21720416666665</td><td>46.54558333333333</td><td>2023-03-17 11:25:26.400</td></tr>\n",
       "<tr><td>SN2023dfi</td><td>Ia</td><td></td><td>8:55:20.16</td><td>+70:36:52.72</td><td>133.83399583333332</td><td>70.61464444444444</td><td>2023-03-17 04:40:48.000</td></tr>\n",
       "<tr><td>SN2023dfg</td><td>Ia</td><td></td><td>12:02:08.12</td><td>-4:22:19.4</td><td>180.5338125</td><td>-4.372055555555555</td><td>2023-03-13 07:40:48.000</td></tr>\n",
       "<tr><td>...</td><td>...</td><td>...</td><td>...</td><td>...</td><td>...</td><td>...</td><td>...</td></tr>\n",
       "<tr><td>SN1935B</td><td>Unclassified</td><td>NGC 3115</td><td>10:05:11.34</td><td>-7:42:07.15</td><td>151.29725000000002</td><td>-7.701986111111111</td><td>1935/04/01</td></tr>\n",
       "<tr><td>SN1954J</td><td>II Pec?</td><td>NGC 2403</td><td>7:36:55.64</td><td>+65:37:52.17</td><td>114.23183472222222</td><td>65.6311574074074</td><td>1954/11/26</td></tr>\n",
       "<tr><td>SN1982aa</td><td>Unclassified</td><td>NGC 6052</td><td>16:05:12.77</td><td>+20:32:38.37</td><td>241.30322187499996</td><td>20.543992222222222</td><td>1982/01/01</td></tr>\n",
       "<tr><td>SN1985M</td><td>Unclassified</td><td>A220830-4830</td><td>22:08:28.02</td><td>-48:30:20.5</td><td>332.1167708333333</td><td>-48.50569444444445</td><td>1985/06/16</td></tr>\n",
       "<tr><td>SN1988M</td><td>II</td><td>NGC 4496B</td><td>12:31:40.94</td><td>+3:55:22.03</td><td>187.92059375000002</td><td>3.922786666666666</td><td>1988/04/07</td></tr>\n",
       "<tr><td>SN386A</td><td>CC</td><td>Milky Way</td><td>18:11:27.0</td><td>-19:25:00.0</td><td>272.8625</td><td>-19.416666666666668</td><td>386/04/30</td></tr>\n",
       "<tr><td>SN393A</td><td>CC</td><td>Milky Way</td><td>17:13:50.0</td><td>-39:24:60.0</td><td>258.4583333333333</td><td>-39.416666666666664</td><td>393/02/27</td></tr>\n",
       "</table></div>"
      ],
      "text/plain": [
       "<Table length=50119>\n",
       "   Name       Type     ...       Dec dds               DiscDate       \n",
       "  str36      str19     ...       float64                str23         \n",
       "--------- ------------ ... ------------------- -----------------------\n",
       "SN2023dul           Ia ...   40.96062222222223 2023-03-21 06:33:42.624\n",
       "SN2023dtd           II ...  -23.85321666666667 2023-03-20 05:30:58.176\n",
       "SN2023dtc           Ib ... -22.962508333333332 2023-03-20 02:48:13.248\n",
       "SN2023dof           Ia ...           -8.764225 2023-03-17 17:58:25.824\n",
       "SN2023dgp  Ia-91T-like ...   46.54558333333333 2023-03-17 11:25:26.400\n",
       "SN2023dfi           Ia ...   70.61464444444444 2023-03-17 04:40:48.000\n",
       "SN2023dfg           Ia ...  -4.372055555555555 2023-03-13 07:40:48.000\n",
       "      ...          ... ...                 ...                     ...\n",
       "  SN1935B Unclassified ...  -7.701986111111111              1935/04/01\n",
       "  SN1954J      II Pec? ...    65.6311574074074              1954/11/26\n",
       " SN1982aa Unclassified ...  20.543992222222222              1982/01/01\n",
       "  SN1985M Unclassified ...  -48.50569444444445              1985/06/16\n",
       "  SN1988M           II ...   3.922786666666666              1988/04/07\n",
       "   SN386A           CC ... -19.416666666666668               386/04/30\n",
       "   SN393A           CC ... -39.416666666666664               393/02/27"
      ]
     },
     "execution_count": 4,
     "metadata": {},
     "output_type": "execute_result"
    }
   ],
   "source": [
    "types = []\n",
    "[types.append(x) for x in SN_Cat[\"Type\"] if x not in types]\n",
    "\n",
    "OKTypes = ['Ia','II','Ia-91bg','IIb','Ia Pec','IIn','Ibn','Ic','II P','Ib','II Pec','Ia CSM','Ic Pec','IIn Pec',\n",
    "           'Ia-09dc','Ia-91T','IIn-09ip','Ic BL','Ia-02cx','SLSN?','Ib/c','Ib/IIb','NT','BL','SLSN-I','I','II L',\n",
    "           'II/IIb','Ia-11kx','Ia-99aa','Ib-18cow','Iz','IIn/LBV','SLSN-II','CC','Ib Pec','Ic-lum?','IIb?','II?',\n",
    "           'Ia?','SLSN','SLSN-I?','Ib/c?','SLSN-II?','PISN?','Ic?','IIn?','Ib-IIb','Lensed SN Ia','II L?','Ii',\n",
    "           'II-p','II/LBV','Ia/c','I-faint','SLSN-I-R','II/Ib/c','Ib-Ca','Ca-rich','CC?','II Pec?','Pec','Ia*',\n",
    "           'I?','II P?','nIa','Ia-HV','II/Ic','II P Pec','IIb/Ib/Ic (Ca rich)','Ib/Ic (Ca rich)','Ic/Ic-BL',\n",
    "           'Ib/Ic (Ca rich?)?','Ib (Ca rich)','Ibn/IIbn','Ib/Ic','.Ia','IIn-pec/LBV','IIb/Ib/Ic', \n",
    "           'Super-Luminous Ic','Ia Pec?','Ia-pec.','.IaPec','IIP','IIn/Ibn','BL-Ic','.IIP','Ib/c-BL','LBV to IIn'\n",
    "           ,'Ia-p','II-09ip','I Pec','Ia-91bg-like','Ic-BL','Ia-02ic-like','Ia-CSM/IIn','SLSN-IIn',\n",
    "           'Iax[02cx-like]','Ib-pec','.II','Ia/Ic','Ib-Ca-rich','Ia/b','SNSN-II','Ia-91T-like','Icn','LBV/IIn',\n",
    "           'Iazhost=0.088376)','IIn-pec','Ia-CSM','SN','Ia-SC','Ia-pec','Ia-00cx','II-pec','Ibn/Icn','Ic-pec',\n",
    "           'SLSN-R','IIb/Ib','Unclassified']\n",
    "\n",
    "notOKTypes = ['Candidate','Comet', 'Galaxy','AGN','Dwarf', 'LPV','removed','LSQ','Other','other',\n",
    "              'NLSy1','Afterglow?','GRB','Afterglow','LRN','PNV','Afterflow','LGRB','blue','XRB','maser',\n",
    "              'CV','Star','Wolf-Rayet','Be','LBV','Jovan','DN','CN','dwarf','uconfirmed','Radio',\n",
    "              'Variable','~','LRT','TDE','ulense', 'LCH', 'Candidate?', 'LRV?']\n",
    "\n",
    "nm,r, d, tp, dd,h, rhms, ddms = [],[],[],[],[],[],[],[]\n",
    "\n",
    "\n",
    "for i in range(len(SN_Cat)):\n",
    "    if SN_Cat[\"Type\"][i] in OKTypes:\n",
    "        nm.append(SN_Cat['Name'][i])\n",
    "        h.append(SN_Cat['Host'][i].strip('\"'))\n",
    "        rhms.append(SN_Cat['RA hms'][i])\n",
    "        ddms.append(SN_Cat['Dec dms'][i])\n",
    "        r.append(SN_Cat['RA dds'][i])\n",
    "        d.append(SN_Cat['Dec dds'][i])\n",
    "        tp.append(SN_Cat['Type'][i])\n",
    "        dd.append(SN_Cat['DiscDate'][i])\n",
    "\n",
    "        \n",
    "Typed_SN_Cat = Table({\"Name\":nm,\n",
    "              \"Type\":tp,\n",
    "              \"Host\":h,\n",
    "              \"RA hms\":rhms,\n",
    "              \"Dec dms\":ddms,                     \n",
    "              \"RA dds\":r,\n",
    "              \"Dec dds\":d,\n",
    "              \"DiscDate\":dd})\n",
    "\n",
    "Typed_SN_Cat"
   ]
  },
  {
   "cell_type": "code",
   "execution_count": 5,
   "id": "7e243c28",
   "metadata": {},
   "outputs": [
    {
     "data": {
      "text/html": [
       "<div><i>Table length=36353</i>\n",
       "<table id=\"table140479625161408\" class=\"table-striped table-bordered table-condensed\">\n",
       "<thead><tr><th>Name</th><th>Type</th><th>Host</th><th>RA hms</th><th>Dec dms</th><th>RA dds</th><th>Dec dds</th><th>DiscDate</th></tr></thead>\n",
       "<thead><tr><th>str36</th><th>str19</th><th>str44</th><th>str11</th><th>str12</th><th>float64</th><th>float64</th><th>str23</th></tr></thead>\n",
       "<tr><td>2018inf</td><td>Ia</td><td>MCG +07-28-26</td><td>13:31:56.1</td><td>+44:08:21.69</td><td>202.98375000000001</td><td>44.139358333333334</td><td>2018/11/15</td></tr>\n",
       "<tr><td>A2021ymb</td><td>Ia</td><td></td><td>0:20:51.16</td><td>-32:51:24.88</td><td>5.21315</td><td>-32.85691111111111</td><td>2021/09/08</td></tr>\n",
       "<tr><td>ASASSN-13av</td><td>Ia</td><td>NGC 7068</td><td>21:26:31.92</td><td>+12:10:48.72</td><td>321.633</td><td>12.1802</td><td>2013/06/26</td></tr>\n",
       "<tr><td>ASASSN-13ch</td><td>Ia</td><td>CGCG 023-030</td><td>16:16:34.07</td><td>-0:35:27.36</td><td>244.14195833333332</td><td>-0.5909322222222222</td><td>2013/08/28</td></tr>\n",
       "<tr><td>ASASSN-13cj</td><td>Ia</td><td>CGCG 051-075</td><td>16:17:11.03</td><td>+4:33:14.69</td><td>244.29593749999998</td><td>4.554081666666667</td><td>2013/08/27</td></tr>\n",
       "<tr><td>ASASSN-13co</td><td>II</td><td>CGCG 402-014</td><td>21:40:38.63</td><td>+6:30:36.71</td><td>325.1609444444445</td><td>6.510197222222222</td><td>2013/08/29</td></tr>\n",
       "<tr><td>ASASSN-13cp</td><td>Ia</td><td>CGCG 136-015</td><td>15:33:49.23</td><td>+21:08:21.39</td><td>233.45510555555555</td><td>21.139274999999998</td><td>2013/08/30</td></tr>\n",
       "<tr><td>...</td><td>...</td><td>...</td><td>...</td><td>...</td><td>...</td><td>...</td><td>...</td></tr>\n",
       "<tr><td>iPTF16fnl</td><td>Unclassified</td><td></td><td>0:29:57.1</td><td>+32:53:38.4</td><td>7.487916666666667</td><td>32.894</td><td>2016</td></tr>\n",
       "<tr><td>iPTF16fsc</td><td>Ia</td><td></td><td>2:24:28.34</td><td>+32:51:30.69</td><td>36.11808333333333</td><td>32.858525</td><td>2016/09/04</td></tr>\n",
       "<tr><td>iPTF16gyl</td><td>Ia</td><td></td><td>0:42:53.12</td><td>+7:01:41.78</td><td>10.721333333333332</td><td>7.028272222222222</td><td>2016/10/07</td></tr>\n",
       "<tr><td>iPTF16hcn</td><td>Ia</td><td></td><td>22:08:01.33</td><td>+30:46:27.95</td><td>332.00554166666666</td><td>30.774430555555554</td><td>2016/10/12</td></tr>\n",
       "<tr><td>iPTF16hrx</td><td>Ia</td><td></td><td>1:23:54.57</td><td>+38:51:01.99</td><td>20.977375000000002</td><td>38.85055277777778</td><td>2016/11/02</td></tr>\n",
       "<tr><td>iPTF16ijw</td><td>Ia</td><td></td><td>23:36:51.33</td><td>+20:43:23.69</td><td>354.21387500000003</td><td>20.72324722222222</td><td>2016/11/23</td></tr>\n",
       "<tr><td>iPTF16isi</td><td>Ia</td><td></td><td>1:20:47.43</td><td>+42:42:13.63</td><td>20.197645833333333</td><td>42.703786111111114</td><td>2016/12/06</td></tr>\n",
       "</table></div>"
      ],
      "text/plain": [
       "<Table length=36353>\n",
       "    Name        Type          Host     ...       Dec dds        DiscDate \n",
       "   str36       str19         str44     ...       float64         str23   \n",
       "----------- ------------ ------------- ... ------------------- ----------\n",
       "    2018inf           Ia MCG +07-28-26 ...  44.139358333333334 2018/11/15\n",
       "   A2021ymb           Ia               ...  -32.85691111111111 2021/09/08\n",
       "ASASSN-13av           Ia      NGC 7068 ...             12.1802 2013/06/26\n",
       "ASASSN-13ch           Ia  CGCG 023-030 ... -0.5909322222222222 2013/08/28\n",
       "ASASSN-13cj           Ia  CGCG 051-075 ...   4.554081666666667 2013/08/27\n",
       "ASASSN-13co           II  CGCG 402-014 ...   6.510197222222222 2013/08/29\n",
       "ASASSN-13cp           Ia  CGCG 136-015 ...  21.139274999999998 2013/08/30\n",
       "        ...          ...           ... ...                 ...        ...\n",
       "  iPTF16fnl Unclassified               ...              32.894       2016\n",
       "  iPTF16fsc           Ia               ...           32.858525 2016/09/04\n",
       "  iPTF16gyl           Ia               ...   7.028272222222222 2016/10/07\n",
       "  iPTF16hcn           Ia               ...  30.774430555555554 2016/10/12\n",
       "  iPTF16hrx           Ia               ...   38.85055277777778 2016/11/02\n",
       "  iPTF16ijw           Ia               ...   20.72324722222222 2016/11/23\n",
       "  iPTF16isi           Ia               ...  42.703786111111114 2016/12/06"
      ]
     },
     "execution_count": 5,
     "metadata": {},
     "output_type": "execute_result"
    }
   ],
   "source": [
    "SNUnique = unique(Typed_SN_Cat, keys = \"Name\", keep = 'last')\n",
    "\n",
    "SNUnique"
   ]
  },
  {
   "cell_type": "code",
   "execution_count": 6,
   "id": "3e606e19",
   "metadata": {},
   "outputs": [],
   "source": [
    "ascii.write(SNUnique, \"../Data/1.FullCatalog.csv\", format='csv', fast_writer=False, overwrite=True)  "
   ]
  },
  {
   "cell_type": "code",
   "execution_count": null,
   "id": "05bc7ee0",
   "metadata": {},
   "outputs": [],
   "source": []
  },
  {
   "cell_type": "code",
   "execution_count": null,
   "id": "2c7542da",
   "metadata": {},
   "outputs": [],
   "source": []
  }
 ],
 "metadata": {
  "kernelspec": {
   "display_name": "Python 3 (ipykernel)",
   "language": "python",
   "name": "python3"
  },
  "language_info": {
   "codemirror_mode": {
    "name": "ipython",
    "version": 3
   },
   "file_extension": ".py",
   "mimetype": "text/x-python",
   "name": "python",
   "nbconvert_exporter": "python",
   "pygments_lexer": "ipython3",
   "version": "3.9.13"
  }
 },
 "nbformat": 4,
 "nbformat_minor": 5
}
