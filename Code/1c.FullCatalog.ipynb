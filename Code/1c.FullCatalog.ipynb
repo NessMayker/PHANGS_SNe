{
 "cells": [
  {
   "cell_type": "markdown",
   "id": "neutral-exclusive",
   "metadata": {},
   "source": [
    "Makes the full SN catalog by combining OSC and TNS.\n",
    "\n",
    "\n",
    "Note: When we have a duplicate between TNS and OSC, we trust the OSC entry more. This fixed a problematic type classification for 1983V in NGC1365, but we recommend looking checking the type classifications by hand."
   ]
  },
  {
   "cell_type": "markdown",
   "id": "79efeeb3",
   "metadata": {},
   "source": [
    "OSC column names: \"Name\",\"Disc. Date\",\"mmax\",\"Host Name\",\"R.A.\",\"Dec.\",\"Type\",\"Phot.\",\"Spec.\",\"Radio\",\"X-ray\"\n",
    "\n",
    "TNS column names: \"ID\",\"Name\",\"RA\",\"DEC\",\"Ob\n",
    "j. Type\",\"Redshift\",\"Host Name\",\"Host Redshift\",\"Reporting Group/s\",\n",
    "\"Discovery Data Source/s\",\"Classifying Group/s\",\"Associated Group/s\",\"Disc. Internal Name\",\"Disc. Instrument/s\",\n",
    "\"Class. Instrument/s\",\"TNS AT\",\"Public\",\"End Prop. Period\",\"Discovery Mag/Flux\",\"Discovery Filter\",\"Discovery\n",
    "Date (UT)\",\"Sender\",\"Remarks\",\"Discovery Bibcode\",\"Classification Bibcodes\",\"Ext. catalog/s\"\n"
   ]
  },
  {
   "cell_type": "code",
   "execution_count": 1,
   "id": "demonstrated-christianity",
   "metadata": {},
   "outputs": [],
   "source": [
    "# IMPORT PACKAGES\n",
    "import numpy as np\n",
    "from matplotlib import pyplot as plt\n",
    "import astropy.io.fits as pyfits\n",
    "from astropy.table import Table, vstack, unique\n",
    "from astropy.wcs import WCS\n",
    "from astropy.io import ascii\n",
    "import astropy\n",
    "from astropy.io import fits\n"
   ]
  },
  {
   "cell_type": "code",
   "execution_count": 2,
   "id": "designing-commissioner",
   "metadata": {
    "scrolled": true
   },
   "outputs": [],
   "source": [
    "# Prep catalog\n",
    "\n",
    "OSC_File = '../Data/1.OSCCleaned.csv'\n",
    "OSC_Sample = Table.read(OSC_File, format='csv') \n",
    "\n",
    "TNS_File = '../Data/1.TNSCleaned.csv'\n",
    "TNS_Sample = Table.read(TNS_File, format='csv')\n",
    "\n",
    "SN_Cat = vstack([TNS_Sample, OSC_Sample], join_type=\"exact\") # tables must all have exactly the same column names\n"
   ]
  },
  {
   "cell_type": "code",
   "execution_count": 3,
   "id": "71d8d448",
   "metadata": {},
   "outputs": [
    {
     "data": {
      "text/html": [
       "<i>Table length=100195</i>\n",
       "<table id=\"table140308369898800\" class=\"table-striped table-bordered table-condensed\">\n",
       "<thead><tr><th>Name</th><th>Host</th><th>RA hms</th><th>Dec hms</th><th>RA dds</th><th>Dec dds</th><th>Type</th><th>DiscDate</th></tr></thead>\n",
       "<thead><tr><th>str36</th><th>str46</th><th>str11</th><th>str12</th><th>float64</th><th>float64</th><th>str19</th><th>str23</th></tr></thead>\n",
       "<tr><td>SN2022zic</td><td>&quot;&quot;</td><td>23:20:05.24</td><td>+24:13:17.24</td><td>350.0218333333333</td><td>24.221455555555554</td><td>Ib</td><td>2022-10-27 07:53:45.600</td></tr>\n",
       "<tr><td>SN2022yyc</td><td>&quot;&quot;</td><td>22:09:44.3</td><td>+9:10:32.56</td><td>332.4345916666667</td><td>9.175711111111111</td><td>Ia</td><td>2022-10-27 05:39:50.400</td></tr>\n",
       "<tr><td>SN2022yyb</td><td>&quot;&quot;</td><td>22:18:02.52</td><td>+26:16:59.65</td><td>334.5105125</td><td>26.283236111111112</td><td>Ia</td><td>2022-10-29 05:58:33.600</td></tr>\n",
       "<tr><td>SN2022yxp</td><td>&quot;WISEA J045605.72+014912.9&quot;</td><td>4:56:05.62</td><td>+1:49:06.9</td><td>74.02343333333333</td><td>1.8185833333333332</td><td>Ia</td><td>2022-10-28 10:37:29.997</td></tr>\n",
       "<tr><td>SN2022yxh</td><td>&quot;&quot;</td><td>22:55:15.98</td><td>-58:42:10.25</td><td>343.81656250000003</td><td>-58.702847222222225</td><td>Ia</td><td>2022-10-28 02:01:19.200</td></tr>\n",
       "<tr><td>SN2022ywy</td><td>&quot;&quot;</td><td>2:24:43.07</td><td>-7:57:08.53</td><td>36.1794375</td><td>-7.952369444444445</td><td>SN</td><td>2022-10-28 11:55:40.800</td></tr>\n",
       "<tr><td>SN2022ywf</td><td>&quot;&quot;</td><td>1:22:12.2</td><td>+0:57:23.68</td><td>20.550816666666666</td><td>0.9565777777777777</td><td>Ia</td><td>2022-10-28 04:22:04.800</td></tr>\n",
       "<tr><td>SN2022yvw</td><td>&quot;&quot;</td><td>3:33:45.28</td><td>-19:29:29.76</td><td>53.43866249999999</td><td>-19.491600000000002</td><td>IIb</td><td>2022-10-27 22:06:48.096</td></tr>\n",
       "<tr><td>SN2022yvv</td><td>&quot;&quot;</td><td>2:41:43.01</td><td>-22:48:51.33</td><td>40.429225</td><td>-22.814258333333335</td><td>Ia</td><td>2022-10-26 08:34:04.800</td></tr>\n",
       "<tr><td>SN2022yuj</td><td>&quot;&quot;</td><td>7:50:11.22</td><td>+37:26:52.69</td><td>117.54676666666666</td><td>37.44796944444444</td><td>Ia</td><td>2022-10-25 13:32:07.872</td></tr>\n",
       "<tr><td>...</td><td>...</td><td>...</td><td>...</td><td>...</td><td>...</td><td>...</td><td>...</td></tr>\n",
       "<tr><td>SN185A</td><td>&quot;Milky Way&quot;</td><td>14:40:48.33</td><td>-61:51:20.0</td><td>220.2013888888889</td><td>-61.855555555555554</td><td>Ia</td><td>185/12/07</td></tr>\n",
       "<tr><td>SN1868A</td><td>&quot;Milky Way&quot;</td><td>12:48:43.5</td><td>-27:09:30.0</td><td>192.18125</td><td>-27.15833333333333</td><td>Unclassified</td><td>1868</td></tr>\n",
       "<tr><td>SN1935B</td><td>&quot;NGC 3115&quot;</td><td>10:05:11.34</td><td>-7:42:07.15</td><td>151.29725000000002</td><td>-7.701986111111111</td><td>Unclassified</td><td>1935/04/01</td></tr>\n",
       "<tr><td>SN1954J</td><td>&quot;NGC 2403&quot;</td><td>7:36:55.64</td><td>+65:37:52.17</td><td>114.23183472222222</td><td>65.6311574074074</td><td>II Pec?</td><td>1954/11/26</td></tr>\n",
       "<tr><td>SN1982aa</td><td>&quot;NGC 6052&quot;</td><td>16:05:12.77</td><td>+20:32:38.37</td><td>241.30322187499996</td><td>20.543992222222222</td><td>Unclassified</td><td>1982/01/01</td></tr>\n",
       "<tr><td>SN1985M</td><td>&quot;A220830-4830&quot;</td><td>22:08:28.02</td><td>-48:30:20.5</td><td>332.1167708333333</td><td>-48.50569444444445</td><td>Unclassified</td><td>1985/06/16</td></tr>\n",
       "<tr><td>SN1988M</td><td>&quot;NGC 4496B&quot;</td><td>12:31:40.94</td><td>+3:55:22.03</td><td>187.92059375000002</td><td>3.922786666666666</td><td>II</td><td>1988/04/07</td></tr>\n",
       "<tr><td>SN386A</td><td>&quot;Milky Way&quot;</td><td>18:11:27.0</td><td>-19:25:00.0</td><td>272.8625</td><td>-19.416666666666668</td><td>CC</td><td>386/04/30</td></tr>\n",
       "<tr><td>SN393A</td><td>&quot;Milky Way&quot;</td><td>17:13:50.0</td><td>-39:24:60.0</td><td>258.4583333333333</td><td>-39.416666666666664</td><td>CC</td><td>393/02/27</td></tr>\n",
       "<tr><td>SN837A</td><td>&quot;Milky Way&quot;</td><td>6:49:60.0</td><td>+9:00:00.0</td><td>102.5</td><td>9.0</td><td>Candidate</td><td>837/04/29</td></tr>\n",
       "</table>"
      ],
      "text/plain": [
       "<Table length=100195>\n",
       "   Name               Host            ...     Type             DiscDate       \n",
       "  str36              str46            ...    str19              str23         \n",
       "--------- --------------------------- ... ------------ -----------------------\n",
       "SN2022zic                          \"\" ...           Ib 2022-10-27 07:53:45.600\n",
       "SN2022yyc                          \"\" ...           Ia 2022-10-27 05:39:50.400\n",
       "SN2022yyb                          \"\" ...           Ia 2022-10-29 05:58:33.600\n",
       "SN2022yxp \"WISEA J045605.72+014912.9\" ...           Ia 2022-10-28 10:37:29.997\n",
       "SN2022yxh                          \"\" ...           Ia 2022-10-28 02:01:19.200\n",
       "SN2022ywy                          \"\" ...           SN 2022-10-28 11:55:40.800\n",
       "SN2022ywf                          \"\" ...           Ia 2022-10-28 04:22:04.800\n",
       "SN2022yvw                          \"\" ...          IIb 2022-10-27 22:06:48.096\n",
       "SN2022yvv                          \"\" ...           Ia 2022-10-26 08:34:04.800\n",
       "SN2022yuj                          \"\" ...           Ia 2022-10-25 13:32:07.872\n",
       "      ...                         ... ...          ...                     ...\n",
       "   SN185A                 \"Milky Way\" ...           Ia               185/12/07\n",
       "  SN1868A                 \"Milky Way\" ... Unclassified                    1868\n",
       "  SN1935B                  \"NGC 3115\" ... Unclassified              1935/04/01\n",
       "  SN1954J                  \"NGC 2403\" ...      II Pec?              1954/11/26\n",
       " SN1982aa                  \"NGC 6052\" ... Unclassified              1982/01/01\n",
       "  SN1985M              \"A220830-4830\" ... Unclassified              1985/06/16\n",
       "  SN1988M                 \"NGC 4496B\" ...           II              1988/04/07\n",
       "   SN386A                 \"Milky Way\" ...           CC               386/04/30\n",
       "   SN393A                 \"Milky Way\" ...           CC               393/02/27\n",
       "   SN837A                 \"Milky Way\" ...    Candidate               837/04/29"
      ]
     },
     "execution_count": 3,
     "metadata": {},
     "output_type": "execute_result"
    }
   ],
   "source": [
    "SN_Cat"
   ]
  },
  {
   "cell_type": "code",
   "execution_count": 4,
   "id": "a2b4785c",
   "metadata": {},
   "outputs": [
    {
     "data": {
      "text/html": [
       "<i>Table length=86398</i>\n",
       "<table id=\"table140308369897984\" class=\"table-striped table-bordered table-condensed\">\n",
       "<thead><tr><th>Name</th><th>Host</th><th>RA hms</th><th>Dec hms</th><th>RA dds</th><th>Dec dds</th><th>Type</th><th>DiscDate</th></tr></thead>\n",
       "<thead><tr><th>str36</th><th>str46</th><th>str11</th><th>str12</th><th>float64</th><th>float64</th><th>str19</th><th>str23</th></tr></thead>\n",
       "<tr><td>2018inf</td><td>&quot;MCG +07-28-26&quot;</td><td>13:31:56.1</td><td>+44:08:21.69</td><td>202.98375000000001</td><td>44.139358333333334</td><td>Ia</td><td>2018/11/15</td></tr>\n",
       "<tr><td>A2021ymb</td><td>&quot;&quot;</td><td>0:20:51.16</td><td>-32:51:24.88</td><td>5.21315</td><td>-32.85691111111111</td><td>Ia</td><td>2021/09/08</td></tr>\n",
       "<tr><td>ASASSN-13av</td><td>&quot;NGC 7068&quot;</td><td>21:26:31.92</td><td>+12:10:48.72</td><td>321.633</td><td>12.1802</td><td>Ia</td><td>2013/06/26</td></tr>\n",
       "<tr><td>ASASSN-13ch</td><td>&quot;CGCG 023-030&quot;</td><td>16:16:34.07</td><td>-0:35:27.36</td><td>244.14195833333332</td><td>-0.5909322222222222</td><td>Ia</td><td>2013/08/28</td></tr>\n",
       "<tr><td>ASASSN-13cj</td><td>&quot;CGCG 051-075&quot;</td><td>16:17:11.03</td><td>+4:33:14.69</td><td>244.29593749999998</td><td>4.554081666666667</td><td>Ia</td><td>2013/08/27</td></tr>\n",
       "<tr><td>ASASSN-13co</td><td>&quot;CGCG 402-014&quot;</td><td>21:40:38.63</td><td>+6:30:36.71</td><td>325.1609444444445</td><td>6.510197222222222</td><td>II</td><td>2013/08/29</td></tr>\n",
       "<tr><td>ASASSN-13cp</td><td>&quot;CGCG 136-015&quot;</td><td>15:33:49.23</td><td>+21:08:21.39</td><td>233.45510555555555</td><td>21.139274999999998</td><td>Ia</td><td>2013/08/30</td></tr>\n",
       "<tr><td>ASASSN-13cu</td><td>&quot;PGC 2414&quot;</td><td>0:40:10.06</td><td>-10:26:24.47</td><td>10.041927777777778</td><td>-10.440129629629629</td><td>Ia</td><td>2013/09/01</td></tr>\n",
       "<tr><td>ASASSN-13dd</td><td>&quot;NGC 2765&quot;</td><td>9:07:36.73</td><td>+3:23:39.11</td><td>136.90306249999998</td><td>3.3941970370370367</td><td>Ia</td><td>2013/09/24</td></tr>\n",
       "<tr><td>ASASSN-13dl</td><td>&quot;Unknown&quot;</td><td>7:38:49.39</td><td>+58:12:43.47</td><td>114.70580555555556</td><td>58.21207592592592</td><td>Ia</td><td>2013/10/10</td></tr>\n",
       "<tr><td>...</td><td>...</td><td>...</td><td>...</td><td>...</td><td>...</td><td>...</td><td>...</td></tr>\n",
       "<tr><td>iPTF16fmc</td><td>&quot;&quot;</td><td>21:37:32.53</td><td>+20:55:29.02</td><td>324.38554166666665</td><td>20.92472777777778</td><td>Ia</td><td>2016/08/28</td></tr>\n",
       "<tr><td>iPTF16fmd</td><td>&quot;&quot;</td><td>21:46:44.19</td><td>+8:55:53.55</td><td>326.684125</td><td>8.931541666666666</td><td>Ia</td><td>2016/08/28</td></tr>\n",
       "<tr><td>iPTF16fnl</td><td>&quot;&quot;</td><td>0:29:57.1</td><td>+32:53:38.4</td><td>7.487916666666667</td><td>32.894</td><td>Unclassified</td><td>2016</td></tr>\n",
       "<tr><td>iPTF16fsc</td><td>&quot;&quot;</td><td>2:24:28.34</td><td>+32:51:30.69</td><td>36.11808333333333</td><td>32.858525</td><td>Ia</td><td>2016/09/04</td></tr>\n",
       "<tr><td>iPTF16gyl</td><td>&quot;&quot;</td><td>0:42:53.12</td><td>+7:01:41.78</td><td>10.721333333333332</td><td>7.028272222222222</td><td>Ia</td><td>2016/10/07</td></tr>\n",
       "<tr><td>iPTF16hcn</td><td>&quot;&quot;</td><td>22:08:01.33</td><td>+30:46:27.95</td><td>332.00554166666666</td><td>30.774430555555554</td><td>Ia</td><td>2016/10/12</td></tr>\n",
       "<tr><td>iPTF16hrx</td><td>&quot;&quot;</td><td>1:23:54.57</td><td>+38:51:01.99</td><td>20.977375000000002</td><td>38.85055277777778</td><td>Ia</td><td>2016/11/02</td></tr>\n",
       "<tr><td>iPTF16hvw</td><td>&quot;&quot;</td><td>23:44:44.66</td><td>+29:51:43.86</td><td>356.1860833333334</td><td>29.862183333333334</td><td>Candidate</td><td>2016/11/07</td></tr>\n",
       "<tr><td>iPTF16ijw</td><td>&quot;&quot;</td><td>23:36:51.33</td><td>+20:43:23.69</td><td>354.21387500000003</td><td>20.72324722222222</td><td>Ia</td><td>2016/11/23</td></tr>\n",
       "<tr><td>iPTF16isi</td><td>&quot;&quot;</td><td>1:20:47.43</td><td>+42:42:13.63</td><td>20.197645833333333</td><td>42.703786111111114</td><td>Ia</td><td>2016/12/06</td></tr>\n",
       "</table>"
      ],
      "text/plain": [
       "<Table length=86398>\n",
       "    Name          Host         RA hms   ...     Type      DiscDate \n",
       "   str36         str46         str11    ...    str19       str23   \n",
       "----------- --------------- ----------- ... ------------ ----------\n",
       "    2018inf \"MCG +07-28-26\"  13:31:56.1 ...           Ia 2018/11/15\n",
       "   A2021ymb              \"\"  0:20:51.16 ...           Ia 2021/09/08\n",
       "ASASSN-13av      \"NGC 7068\" 21:26:31.92 ...           Ia 2013/06/26\n",
       "ASASSN-13ch  \"CGCG 023-030\" 16:16:34.07 ...           Ia 2013/08/28\n",
       "ASASSN-13cj  \"CGCG 051-075\" 16:17:11.03 ...           Ia 2013/08/27\n",
       "ASASSN-13co  \"CGCG 402-014\" 21:40:38.63 ...           II 2013/08/29\n",
       "ASASSN-13cp  \"CGCG 136-015\" 15:33:49.23 ...           Ia 2013/08/30\n",
       "ASASSN-13cu      \"PGC 2414\"  0:40:10.06 ...           Ia 2013/09/01\n",
       "ASASSN-13dd      \"NGC 2765\"  9:07:36.73 ...           Ia 2013/09/24\n",
       "ASASSN-13dl       \"Unknown\"  7:38:49.39 ...           Ia 2013/10/10\n",
       "        ...             ...         ... ...          ...        ...\n",
       "  iPTF16fmc              \"\" 21:37:32.53 ...           Ia 2016/08/28\n",
       "  iPTF16fmd              \"\" 21:46:44.19 ...           Ia 2016/08/28\n",
       "  iPTF16fnl              \"\"   0:29:57.1 ... Unclassified       2016\n",
       "  iPTF16fsc              \"\"  2:24:28.34 ...           Ia 2016/09/04\n",
       "  iPTF16gyl              \"\"  0:42:53.12 ...           Ia 2016/10/07\n",
       "  iPTF16hcn              \"\" 22:08:01.33 ...           Ia 2016/10/12\n",
       "  iPTF16hrx              \"\"  1:23:54.57 ...           Ia 2016/11/02\n",
       "  iPTF16hvw              \"\" 23:44:44.66 ...    Candidate 2016/11/07\n",
       "  iPTF16ijw              \"\" 23:36:51.33 ...           Ia 2016/11/23\n",
       "  iPTF16isi              \"\"  1:20:47.43 ...           Ia 2016/12/06"
      ]
     },
     "execution_count": 4,
     "metadata": {},
     "output_type": "execute_result"
    }
   ],
   "source": [
    "SNUnique = unique(SN_Cat, keys = \"Name\", keep = 'last')\n",
    "\n",
    "SNUnique"
   ]
  },
  {
   "cell_type": "code",
   "execution_count": 5,
   "id": "transparent-detective",
   "metadata": {},
   "outputs": [],
   "source": [
    "ascii.write(SNUnique, \"../Data/1.FullCatalog.csv\", format='csv', fast_writer=False, overwrite=True)  "
   ]
  },
  {
   "cell_type": "code",
   "execution_count": null,
   "id": "conventional-admission",
   "metadata": {},
   "outputs": [],
   "source": []
  },
  {
   "cell_type": "code",
   "execution_count": null,
   "id": "349cf9ab",
   "metadata": {},
   "outputs": [],
   "source": []
  }
 ],
 "metadata": {
  "kernelspec": {
   "display_name": "Python 3",
   "language": "python",
   "name": "python3"
  },
  "language_info": {
   "codemirror_mode": {
    "name": "ipython",
    "version": 3
   },
   "file_extension": ".py",
   "mimetype": "text/x-python",
   "name": "python",
   "nbconvert_exporter": "python",
   "pygments_lexer": "ipython3",
   "version": "3.8.10"
  }
 },
 "nbformat": 4,
 "nbformat_minor": 5
}
