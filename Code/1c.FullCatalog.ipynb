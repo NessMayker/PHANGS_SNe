{
 "cells": [
  {
   "cell_type": "markdown",
   "id": "3147b3e1",
   "metadata": {},
   "source": [
    "Makes the full SN catalog by combining OSC and TNS.\n",
    "\n",
    "\n",
    "Note: When we have a duplicate between TNS and OSC, we trust the OSC entry more. This fixed a problematic type classification for 1983V in NGC1365, but we recommend looking checking the type classifications by hand."
   ]
  },
  {
   "cell_type": "markdown",
   "id": "6384560e",
   "metadata": {},
   "source": [
    "OSC column names: \"Name\",\"Disc. Date\",\"mmax\",\"Host Name\",\"R.A.\",\"Dec.\",\"Type\",\"Phot.\",\"Spec.\",\"Radio\",\"X-ray\"\n",
    "\n",
    "TNS column names: \"ID\",\"Name\",\"RA\",\"DEC\",\"Ob\n",
    "j. Type\",\"Redshift\",\"Host Name\",\"Host Redshift\",\"Reporting Group/s\",\n",
    "\"Discovery Data Source/s\",\"Classifying Group/s\",\"Associated Group/s\",\"Disc. Internal Name\",\"Disc. Instrument/s\",\n",
    "\"Class. Instrument/s\",\"TNS AT\",\"Public\",\"End Prop. Period\",\"Discovery Mag/Flux\",\"Discovery Filter\",\"Discovery\n",
    "Date (UT)\",\"Sender\",\"Remarks\",\"Discovery Bibcode\",\"Classification Bibcodes\",\"Ext. catalog/s\"\n"
   ]
  },
  {
   "cell_type": "code",
   "execution_count": null,
   "id": "c5da531d",
   "metadata": {},
   "outputs": [],
   "source": [
    "# IMPORT PACKAGES\n",
    "import numpy as np\n",
    "from matplotlib import pyplot as plt\n",
    "import astropy.io.fits as pyfits\n",
    "from astropy.table import Table, vstack, unique\n",
    "from astropy.wcs import WCS\n",
    "from astropy.io import ascii\n",
    "import astropy\n",
    "from astropy.io import fits\n"
   ]
  },
  {
   "cell_type": "code",
   "execution_count": null,
   "id": "d7fddbf2",
   "metadata": {
    "scrolled": true
   },
   "outputs": [],
   "source": [
    "# Prep catalog\n",
    "\n",
    "OSC_File = '../Data/1.OSCCleaned.csv'\n",
    "OSC_Sample = Table.read(OSC_File, format='csv') \n",
    "\n",
    "TNS_File = '../Data/1.TNSCleaned.csv'\n",
    "TNS_Sample = Table.read(TNS_File, format='csv')\n",
    "\n",
    "SN_Cat = vstack([TNS_Sample, OSC_Sample], join_type=\"exact\") # tables must all have exactly the same column names\n"
   ]
  },
  {
   "cell_type": "code",
   "execution_count": null,
   "id": "23094285",
   "metadata": {},
   "outputs": [],
   "source": [
    "SN_Cat[0:2]"
   ]
  },
  {
   "cell_type": "code",
   "execution_count": null,
   "id": "803f361a",
   "metadata": {},
   "outputs": [],
   "source": [
    "types = []\n",
    "[types.append(x) for x in SN_Cat[\"Type\"] if x not in types]\n",
    "\n",
    "OKTypes = ['Ia','II','Ia-91bg','IIb','Ia Pec','IIn','Ibn','Ic','II P','Ib','II Pec','Ia CSM','Ic Pec','IIn Pec',\n",
    "           'Ia-09dc','Ia-91T','IIn-09ip','Ic BL','Ia-02cx','SLSN?','Ib/c','Ib/IIb','NT','BL','SLSN-I','I','II L',\n",
    "           'II/IIb','Ia-11kx','Ia-99aa','Ib-18cow','Iz','IIn/LBV','SLSN-II','CC','Ib Pec','Ic-lum?','IIb?','II?',\n",
    "           'Ia?','SLSN','SLSN-I?','Ib/c?','SLSN-II?','PISN?','Ic?','IIn?','Ib-IIb','Lensed SN Ia','II L?','Ii',\n",
    "           'II-p','II/LBV','Ia/c','I-faint','SLSN-I-R','II/Ib/c','Ib-Ca','Ca-rich','CC?','II Pec?','Pec','Ia*',\n",
    "           'I?','II P?','nIa','Ia-HV','II/Ic','II P Pec','IIb/Ib/Ic (Ca rich)','Ib/Ic (Ca rich)','Ic/Ic-BL',\n",
    "           'Ib/Ic (Ca rich?)?','Ib (Ca rich)','Ibn/IIbn','Ib/Ic','.Ia','IIn-pec/LBV','IIb/Ib/Ic', \n",
    "           'Super-Luminous Ic','Ia Pec?','Ia-pec.','.IaPec','IIP','IIn/Ibn','BL-Ic','.IIP','Ib/c-BL','LBV to IIn'\n",
    "           ,'Ia-p','II-09ip','I Pec','Ia-91bg-like','Ic-BL','Ia-02ic-like','Ia-CSM/IIn','SLSN-IIn',\n",
    "           'Iax[02cx-like]','Ib-pec','.II','Ia/Ic','Ib-Ca-rich','Ia/b','SNSN-II','Ia-91T-like','Icn','LBV/IIn',\n",
    "           'Iazhost=0.088376)','IIn-pec','Ia-CSM','SN','Ia-SC','Ia-pec','Ia-00cx','II-pec','Ibn/Icn','Ic-pec',\n",
    "           'SLSN-R','IIb/Ib','Unclassified']\n",
    "\n",
    "notOKTypes = ['Candidate','Comet', 'Galaxy','AGN','Dwarf', 'LPV','removed','LSQ','Other','other',\n",
    "              'NLSy1','Afterglow?','GRB','Afterglow','LRN','PNV','Afterflow','LGRB','blue','XRB','maser',\n",
    "              'CV','Star','Wolf-Rayet','Be','LBV','Jovan','DN','CN','dwarf','uconfirmed','Radio',\n",
    "              'Variable','~','LRT','TDE','ulense', 'LCH', 'Candidate?', 'LRV?']\n",
    "\n",
    "nm,r, d, tp, dd,h, rhms, ddms = [],[],[],[],[],[],[],[]\n",
    "\n",
    "\n",
    "for i in range(len(SN_Cat)):\n",
    "    if SN_Cat[\"Type\"][i] in OKTypes:\n",
    "        nm.append(SN_Cat['Name'][i])\n",
    "        h.append(SN_Cat['Host'][i].strip('\"'))\n",
    "        rhms.append(SN_Cat['RA hms'][i])\n",
    "        ddms.append(SN_Cat['Dec dms'][i])\n",
    "        r.append(SN_Cat['RA dds'][i])\n",
    "        d.append(SN_Cat['Dec dds'][i])\n",
    "        tp.append(SN_Cat['Type'][i])\n",
    "        dd.append(SN_Cat['DiscDate'][i])\n",
    "\n",
    "        \n",
    "Typed_SN_Cat = Table({\"Name\":nm,\n",
    "              \"Type\":tp,\n",
    "              \"Host\":h,\n",
    "              \"RA hms\":rhms,\n",
    "              \"Dec dms\":ddms,                     \n",
    "              \"RA dds\":r,\n",
    "              \"Dec dds\":d,\n",
    "              \"DiscDate\":dd})\n",
    "\n",
    "Typed_SN_Cat"
   ]
  },
  {
   "cell_type": "code",
   "execution_count": null,
   "id": "7e243c28",
   "metadata": {},
   "outputs": [],
   "source": [
    "SNUnique = unique(Typed_SN_Cat, keys = \"Name\", keep = 'last')\n",
    "\n",
    "SNUnique"
   ]
  },
  {
   "cell_type": "code",
   "execution_count": null,
   "id": "3e606e19",
   "metadata": {},
   "outputs": [],
   "source": [
    "ascii.write(SNUnique, \"../Data/1.FullCatalog.csv\", format='csv', fast_writer=False, overwrite=True)  "
   ]
  },
  {
   "cell_type": "code",
   "execution_count": null,
   "id": "05bc7ee0",
   "metadata": {},
   "outputs": [],
   "source": []
  },
  {
   "cell_type": "code",
   "execution_count": null,
   "id": "2c7542da",
   "metadata": {},
   "outputs": [],
   "source": []
  }
 ],
 "metadata": {
  "kernelspec": {
   "display_name": "Python 3",
   "language": "python",
   "name": "python3"
  },
  "language_info": {
   "codemirror_mode": {
    "name": "ipython",
    "version": 3
   },
   "file_extension": ".py",
   "mimetype": "text/x-python",
   "name": "python",
   "nbconvert_exporter": "python",
   "pygments_lexer": "ipython3",
   "version": "3.8.10"
  }
 },
 "nbformat": 4,
 "nbformat_minor": 5
}
