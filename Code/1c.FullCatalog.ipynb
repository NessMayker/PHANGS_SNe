{
 "cells": [
  {
   "cell_type": "markdown",
   "id": "neutral-exclusive",
   "metadata": {},
   "source": [
    "Makes the full SN catalog by combining OSC and TNS.\n",
    "\n",
    "\n",
    "Note: When we have a duplicate between TNS and OSC, we trust the OSC entry more. This fixed a problematic type classification for 1983V in NGC1365, but we recommend looking checking the type classifications by hand."
   ]
  },
  {
   "cell_type": "markdown",
   "id": "79efeeb3",
   "metadata": {},
   "source": [
    "OSC column names: \"Name\",\"Disc. Date\",\"mmax\",\"Host Name\",\"R.A.\",\"Dec.\",\"Type\",\"Phot.\",\"Spec.\",\"Radio\",\"X-ray\"\n",
    "\n",
    "TNS column names: \"ID\",\"Name\",\"RA\",\"DEC\",\"Ob\n",
    "j. Type\",\"Redshift\",\"Host Name\",\"Host Redshift\",\"Reporting Group/s\",\n",
    "\"Discovery Data Source/s\",\"Classifying Group/s\",\"Associated Group/s\",\"Disc. Internal Name\",\"Disc. Instrument/s\",\n",
    "\"Class. Instrument/s\",\"TNS AT\",\"Public\",\"End Prop. Period\",\"Discovery Mag/Flux\",\"Discovery Filter\",\"Discovery\n",
    "Date (UT)\",\"Sender\",\"Remarks\",\"Discovery Bibcode\",\"Classification Bibcodes\",\"Ext. catalog/s\"\n"
   ]
  },
  {
   "cell_type": "code",
   "execution_count": 1,
   "id": "demonstrated-christianity",
   "metadata": {},
   "outputs": [],
   "source": [
    "# IMPORT PACKAGES\n",
    "import numpy as np\n",
    "from matplotlib import pyplot as plt\n",
    "import astropy.io.fits as pyfits\n",
    "from astropy.table import Table, vstack, unique\n",
    "from astropy.wcs import WCS\n",
    "from astropy.io import ascii\n",
    "import astropy\n",
    "from astropy.io import fits\n"
   ]
  },
  {
   "cell_type": "code",
   "execution_count": 2,
   "id": "designing-commissioner",
   "metadata": {
    "scrolled": true
   },
   "outputs": [],
   "source": [
    "# Prep catalog\n",
    "\n",
    "OSC_File = '../Data/1.OSCCleaned.csv'\n",
    "OSC_Sample = Table.read(OSC_File, format='csv') \n",
    "\n",
    "TNS_File = '../Data/1.TNSCleaned.csv'\n",
    "TNS_Sample = Table.read(TNS_File, format='csv')\n",
    "\n",
    "SN_Cat = vstack([TNS_Sample, OSC_Sample], join_type=\"exact\") # tables must all have exactly the same column names\n"
   ]
  },
  {
   "cell_type": "code",
   "execution_count": 3,
   "id": "71d8d448",
   "metadata": {},
   "outputs": [
    {
     "data": {
      "text/html": [
       "<i>Table length=2</i>\n",
       "<table id=\"table140345110961072\" class=\"table-striped table-bordered table-condensed\">\n",
       "<thead><tr><th>Name</th><th>Host</th><th>RA hms</th><th>Dec hms</th><th>RA dds</th><th>Dec dds</th><th>Type</th><th>DiscDate</th></tr></thead>\n",
       "<thead><tr><th>str36</th><th>str46</th><th>str11</th><th>str12</th><th>float64</th><th>float64</th><th>str19</th><th>str23</th></tr></thead>\n",
       "<tr><td>SN2022zic</td><td>&quot;&quot;</td><td>23:20:05.24</td><td>+24:13:17.24</td><td>350.0218333333333</td><td>24.221455555555554</td><td>Ib</td><td>2022-10-27 07:53:45.600</td></tr>\n",
       "<tr><td>SN2022yyc</td><td>&quot;&quot;</td><td>22:09:44.3</td><td>+9:10:32.56</td><td>332.4345916666667</td><td>9.175711111111111</td><td>Ia</td><td>2022-10-27 05:39:50.400</td></tr>\n",
       "</table>"
      ],
      "text/plain": [
       "<Table length=2>\n",
       "   Name    Host    RA hms   ...      Dec dds        Type         DiscDate       \n",
       "  str36   str46    str11    ...      float64       str19          str23         \n",
       "--------- ----- ----------- ... ------------------ ----- -----------------------\n",
       "SN2022zic    \"\" 23:20:05.24 ... 24.221455555555554    Ib 2022-10-27 07:53:45.600\n",
       "SN2022yyc    \"\"  22:09:44.3 ...  9.175711111111111    Ia 2022-10-27 05:39:50.400"
      ]
     },
     "execution_count": 3,
     "metadata": {},
     "output_type": "execute_result"
    }
   ],
   "source": [
    "SN_Cat[0:2]"
   ]
  },
  {
   "cell_type": "code",
   "execution_count": 4,
   "id": "9123ee97",
   "metadata": {},
   "outputs": [
    {
     "data": {
      "text/html": [
       "<i>Table length=40518</i>\n",
       "<table id=\"table140345034669120\" class=\"table-striped table-bordered table-condensed\">\n",
       "<thead><tr><th>Name</th><th>Type</th><th>RA dds</th><th>Dec dds</th><th>DiscDate</th></tr></thead>\n",
       "<thead><tr><th>str27</th><th>str19</th><th>float64</th><th>float64</th><th>str23</th></tr></thead>\n",
       "<tr><td>SN2022zic</td><td>Ib</td><td>350.0218333333333</td><td>24.221455555555554</td><td>2022-10-27 07:53:45.600</td></tr>\n",
       "<tr><td>SN2022yyc</td><td>Ia</td><td>332.4345916666667</td><td>9.175711111111111</td><td>2022-10-27 05:39:50.400</td></tr>\n",
       "<tr><td>SN2022yyb</td><td>Ia</td><td>334.5105125</td><td>26.283236111111112</td><td>2022-10-29 05:58:33.600</td></tr>\n",
       "<tr><td>SN2022yxp</td><td>Ia</td><td>74.02343333333333</td><td>1.8185833333333332</td><td>2022-10-28 10:37:29.997</td></tr>\n",
       "<tr><td>SN2022yxh</td><td>Ia</td><td>343.81656250000003</td><td>-58.702847222222225</td><td>2022-10-28 02:01:19.200</td></tr>\n",
       "<tr><td>SN2022ywy</td><td>SN</td><td>36.1794375</td><td>-7.952369444444445</td><td>2022-10-28 11:55:40.800</td></tr>\n",
       "<tr><td>SN2022ywf</td><td>Ia</td><td>20.550816666666666</td><td>0.9565777777777777</td><td>2022-10-28 04:22:04.800</td></tr>\n",
       "<tr><td>SN2022yvw</td><td>IIb</td><td>53.43866249999999</td><td>-19.491600000000002</td><td>2022-10-27 22:06:48.096</td></tr>\n",
       "<tr><td>SN2022yvv</td><td>Ia</td><td>40.429225</td><td>-22.814258333333335</td><td>2022-10-26 08:34:04.800</td></tr>\n",
       "<tr><td>SN2022yuj</td><td>Ia</td><td>117.54676666666666</td><td>37.44796944444444</td><td>2022-10-25 13:32:07.872</td></tr>\n",
       "<tr><td>...</td><td>...</td><td>...</td><td>...</td><td>...</td></tr>\n",
       "<tr><td>SN2017htp</td><td>Ic BL</td><td>66.58108333333334</td><td>-10.46275</td><td>2017/11/01</td></tr>\n",
       "<tr><td>SN2018ffj</td><td>SLSN-I</td><td>37.74904166666667</td><td>-17.34078333333333</td><td>2018/08/07</td></tr>\n",
       "<tr><td>SN2018fip</td><td>Ic BL</td><td>253.56562499999998</td><td>-54.044241666666665</td><td>2018/07/28</td></tr>\n",
       "<tr><td>ASASSN-20qi</td><td>Ia</td><td>174.53499999999997</td><td>-32.8522</td><td>2020/12/22</td></tr>\n",
       "<tr><td>SN1181A</td><td>CC?</td><td>31.460416666666667</td><td>64.81666666666666</td><td>1181/08/13</td></tr>\n",
       "<tr><td>SN185A</td><td>Ia</td><td>220.2013888888889</td><td>-61.855555555555554</td><td>185/12/07</td></tr>\n",
       "<tr><td>SN1954J</td><td>II Pec?</td><td>114.23183472222222</td><td>65.6311574074074</td><td>1954/11/26</td></tr>\n",
       "<tr><td>SN1988M</td><td>II</td><td>187.92059375000002</td><td>3.922786666666666</td><td>1988/04/07</td></tr>\n",
       "<tr><td>SN386A</td><td>CC</td><td>272.8625</td><td>-19.416666666666668</td><td>386/04/30</td></tr>\n",
       "<tr><td>SN393A</td><td>CC</td><td>258.4583333333333</td><td>-39.416666666666664</td><td>393/02/27</td></tr>\n",
       "</table>"
      ],
      "text/plain": [
       "<Table length=40518>\n",
       "    Name      Type  ...       Dec dds               DiscDate       \n",
       "   str27     str19  ...       float64                str23         \n",
       "----------- ------- ... ------------------- -----------------------\n",
       "  SN2022zic      Ib ...  24.221455555555554 2022-10-27 07:53:45.600\n",
       "  SN2022yyc      Ia ...   9.175711111111111 2022-10-27 05:39:50.400\n",
       "  SN2022yyb      Ia ...  26.283236111111112 2022-10-29 05:58:33.600\n",
       "  SN2022yxp      Ia ...  1.8185833333333332 2022-10-28 10:37:29.997\n",
       "  SN2022yxh      Ia ... -58.702847222222225 2022-10-28 02:01:19.200\n",
       "  SN2022ywy      SN ...  -7.952369444444445 2022-10-28 11:55:40.800\n",
       "  SN2022ywf      Ia ...  0.9565777777777777 2022-10-28 04:22:04.800\n",
       "  SN2022yvw     IIb ... -19.491600000000002 2022-10-27 22:06:48.096\n",
       "  SN2022yvv      Ia ... -22.814258333333335 2022-10-26 08:34:04.800\n",
       "  SN2022yuj      Ia ...   37.44796944444444 2022-10-25 13:32:07.872\n",
       "        ...     ... ...                 ...                     ...\n",
       "  SN2017htp   Ic BL ...           -10.46275              2017/11/01\n",
       "  SN2018ffj  SLSN-I ...  -17.34078333333333              2018/08/07\n",
       "  SN2018fip   Ic BL ... -54.044241666666665              2018/07/28\n",
       "ASASSN-20qi      Ia ...            -32.8522              2020/12/22\n",
       "    SN1181A     CC? ...   64.81666666666666              1181/08/13\n",
       "     SN185A      Ia ... -61.855555555555554               185/12/07\n",
       "    SN1954J II Pec? ...    65.6311574074074              1954/11/26\n",
       "    SN1988M      II ...   3.922786666666666              1988/04/07\n",
       "     SN386A      CC ... -19.416666666666668               386/04/30\n",
       "     SN393A      CC ... -39.416666666666664               393/02/27"
      ]
     },
     "execution_count": 4,
     "metadata": {},
     "output_type": "execute_result"
    }
   ],
   "source": [
    "types = []\n",
    "[types.append(x) for x in SN_Cat[\"Type\"] if x not in types]\n",
    "\n",
    "OKTypes = ['Ia','II','Ia-91bg','IIb','Ia Pec','IIn','Ibn','Ic','II P','Ib','II Pec','Ia CSM','Ic Pec','IIn Pec',\n",
    "           'Ia-09dc','Ia-91T','IIn-09ip','Ic BL','Ia-02cx','SLSN?','Ib/c','Ib/IIb','NT','BL','SLSN-I','I','II L',\n",
    "           'II/IIb','Ia-11kx','Ia-99aa','Ib-18cow','Iz','IIn/LBV','SLSN-II','CC','Ib Pec','Ic-lum?','IIb?','II?',\n",
    "           'Ia?','SLSN','SLSN-I?','Ib/c?','SLSN-II?','PISN?','Ic?','IIn?','Ib-IIb','Lensed SN Ia','II L?','Ii',\n",
    "           'II-p','II/LBV','Ia/c','I-faint','SLSN-I-R','II/Ib/c','Ib-Ca','Ca-rich','CC?','II Pec?','Pec','Ia*',\n",
    "           'I?','II P?','nIa','Ia-HV','II/Ic','II P Pec','IIb/Ib/Ic (Ca rich)','Ib/Ic (Ca rich)','Ic/Ic-BL',\n",
    "           'Ib/Ic (Ca rich?)?','Ib (Ca rich)','Ibn/IIbn','Ib/Ic','.Ia','IIn-pec/LBV','IIb/Ib/Ic', \n",
    "           'Super-Luminous Ic','Ia Pec?','Ia-pec.','.IaPec','IIP','IIn/Ibn','BL-Ic','.IIP','Ib/c-BL','LBV to IIn'\n",
    "           ,'Ia-p','II-09ip','I Pec','Ia-91bg-like','Ic-BL','Ia-02ic-like','Ia-CSM/IIn','SLSN-IIn',\n",
    "           'Iax[02cx-like]','Ib-pec','.II','Ia/Ic','Ib-Ca-rich','Ia/b','SNSN-II','Ia-91T-like','Icn','LBV/IIn',\n",
    "           'Iazhost=0.088376)','IIn-pec','Ia-CSM','SN','Ia-SC','Ia-pec','Ia-00cx','II-pec','Ibn/Icn','Ic-pec',\n",
    "           'SLSN-R','IIb/Ib']\n",
    "\n",
    "notOKTypes = ['Unclassified', 'Candidate','Comet', 'Galaxy','AGN','Dwarf', 'LPV','removed','LSQ','Other','other',\n",
    "              'NLSy1','Afterglow?','GRB','Afterglow','LRN','PNV','Afterflow','LGRB','blue','XRB','maser',\n",
    "              'CV','Star','Wolf-Rayet','Be','LBV','Jovan','DN','CN','dwarf','uconfirmed','Radio',\n",
    "              'Variable','~','LRT','TDE','ulense', 'LCH', 'Candidate?', 'LRV?']\n",
    "\n",
    "nm,r, d, tp, dd = [],[],[],[],[]\n",
    "\n",
    "\n",
    "for i in range(len(SN_Cat)):\n",
    "    if SN_Cat[\"Type\"][i] in OKTypes:\n",
    "        nm.append(SN_Cat['Name'][i])\n",
    "        r.append(SN_Cat['RA dds'][i])\n",
    "        d.append(SN_Cat['Dec dds'][i])\n",
    "        tp.append(SN_Cat['Type'][i])\n",
    "        dd.append(SN_Cat['DiscDate'][i])\n",
    "\n",
    "        \n",
    "Typed_SN_Cat = Table({\"Name\":nm,\n",
    "              \"Type\":tp,\n",
    "              \"RA dds\":r,\n",
    "              \"Dec dds\":d,\n",
    "              \"DiscDate\":dd})\n",
    "\n",
    "Typed_SN_Cat"
   ]
  },
  {
   "cell_type": "code",
   "execution_count": 5,
   "id": "a2b4785c",
   "metadata": {},
   "outputs": [
    {
     "data": {
      "text/html": [
       "<i>Table length=26796</i>\n",
       "<table id=\"table140345910377728\" class=\"table-striped table-bordered table-condensed\">\n",
       "<thead><tr><th>Name</th><th>Type</th><th>RA dds</th><th>Dec dds</th><th>DiscDate</th></tr></thead>\n",
       "<thead><tr><th>str27</th><th>str19</th><th>float64</th><th>float64</th><th>str23</th></tr></thead>\n",
       "<tr><td>2018inf</td><td>Ia</td><td>202.98375000000001</td><td>44.139358333333334</td><td>2018/11/15</td></tr>\n",
       "<tr><td>A2021ymb</td><td>Ia</td><td>5.21315</td><td>-32.85691111111111</td><td>2021/09/08</td></tr>\n",
       "<tr><td>ASASSN-13av</td><td>Ia</td><td>321.633</td><td>12.1802</td><td>2013/06/26</td></tr>\n",
       "<tr><td>ASASSN-13ch</td><td>Ia</td><td>244.14195833333332</td><td>-0.5909322222222222</td><td>2013/08/28</td></tr>\n",
       "<tr><td>ASASSN-13cj</td><td>Ia</td><td>244.29593749999998</td><td>4.554081666666667</td><td>2013/08/27</td></tr>\n",
       "<tr><td>ASASSN-13co</td><td>II</td><td>325.1609444444445</td><td>6.510197222222222</td><td>2013/08/29</td></tr>\n",
       "<tr><td>ASASSN-13cp</td><td>Ia</td><td>233.45510555555555</td><td>21.139274999999998</td><td>2013/08/30</td></tr>\n",
       "<tr><td>ASASSN-13cu</td><td>Ia</td><td>10.041927777777778</td><td>-10.440129629629629</td><td>2013/09/01</td></tr>\n",
       "<tr><td>ASASSN-13dd</td><td>Ia</td><td>136.90306249999998</td><td>3.3941970370370367</td><td>2013/09/24</td></tr>\n",
       "<tr><td>ASASSN-13dl</td><td>Ia</td><td>114.70580555555556</td><td>58.21207592592592</td><td>2013/10/10</td></tr>\n",
       "<tr><td>...</td><td>...</td><td>...</td><td>...</td><td>...</td></tr>\n",
       "<tr><td>iPTF16bad</td><td>SLSN-I</td><td>259.1655416666666</td><td>28.370166666666666</td><td>2016/05/31</td></tr>\n",
       "<tr><td>iPTF16fjg</td><td>Ia</td><td>332.130625</td><td>20.67963611111111</td><td>2016/08/26</td></tr>\n",
       "<tr><td>iPTF16fmc</td><td>Ia</td><td>324.38554166666665</td><td>20.92472777777778</td><td>2016/08/28</td></tr>\n",
       "<tr><td>iPTF16fmd</td><td>Ia</td><td>326.684125</td><td>8.931541666666666</td><td>2016/08/28</td></tr>\n",
       "<tr><td>iPTF16fsc</td><td>Ia</td><td>36.11808333333333</td><td>32.858525</td><td>2016/09/04</td></tr>\n",
       "<tr><td>iPTF16gyl</td><td>Ia</td><td>10.721333333333332</td><td>7.028272222222222</td><td>2016/10/07</td></tr>\n",
       "<tr><td>iPTF16hcn</td><td>Ia</td><td>332.00554166666666</td><td>30.774430555555554</td><td>2016/10/12</td></tr>\n",
       "<tr><td>iPTF16hrx</td><td>Ia</td><td>20.977375000000002</td><td>38.85055277777778</td><td>2016/11/02</td></tr>\n",
       "<tr><td>iPTF16ijw</td><td>Ia</td><td>354.21387500000003</td><td>20.72324722222222</td><td>2016/11/23</td></tr>\n",
       "<tr><td>iPTF16isi</td><td>Ia</td><td>20.197645833333333</td><td>42.703786111111114</td><td>2016/12/06</td></tr>\n",
       "</table>"
      ],
      "text/plain": [
       "<Table length=26796>\n",
       "    Name     Type        RA dds             Dec dds        DiscDate \n",
       "   str27    str19       float64             float64         str23   \n",
       "----------- ------ ------------------ ------------------- ----------\n",
       "    2018inf     Ia 202.98375000000001  44.139358333333334 2018/11/15\n",
       "   A2021ymb     Ia            5.21315  -32.85691111111111 2021/09/08\n",
       "ASASSN-13av     Ia            321.633             12.1802 2013/06/26\n",
       "ASASSN-13ch     Ia 244.14195833333332 -0.5909322222222222 2013/08/28\n",
       "ASASSN-13cj     Ia 244.29593749999998   4.554081666666667 2013/08/27\n",
       "ASASSN-13co     II  325.1609444444445   6.510197222222222 2013/08/29\n",
       "ASASSN-13cp     Ia 233.45510555555555  21.139274999999998 2013/08/30\n",
       "ASASSN-13cu     Ia 10.041927777777778 -10.440129629629629 2013/09/01\n",
       "ASASSN-13dd     Ia 136.90306249999998  3.3941970370370367 2013/09/24\n",
       "ASASSN-13dl     Ia 114.70580555555556   58.21207592592592 2013/10/10\n",
       "        ...    ...                ...                 ...        ...\n",
       "  iPTF16bad SLSN-I  259.1655416666666  28.370166666666666 2016/05/31\n",
       "  iPTF16fjg     Ia         332.130625   20.67963611111111 2016/08/26\n",
       "  iPTF16fmc     Ia 324.38554166666665   20.92472777777778 2016/08/28\n",
       "  iPTF16fmd     Ia         326.684125   8.931541666666666 2016/08/28\n",
       "  iPTF16fsc     Ia  36.11808333333333           32.858525 2016/09/04\n",
       "  iPTF16gyl     Ia 10.721333333333332   7.028272222222222 2016/10/07\n",
       "  iPTF16hcn     Ia 332.00554166666666  30.774430555555554 2016/10/12\n",
       "  iPTF16hrx     Ia 20.977375000000002   38.85055277777778 2016/11/02\n",
       "  iPTF16ijw     Ia 354.21387500000003   20.72324722222222 2016/11/23\n",
       "  iPTF16isi     Ia 20.197645833333333  42.703786111111114 2016/12/06"
      ]
     },
     "execution_count": 5,
     "metadata": {},
     "output_type": "execute_result"
    }
   ],
   "source": [
    "SNUnique = unique(Typed_SN_Cat, keys = \"Name\", keep = 'last')\n",
    "\n",
    "SNUnique"
   ]
  },
  {
   "cell_type": "code",
   "execution_count": 6,
   "id": "transparent-detective",
   "metadata": {},
   "outputs": [],
   "source": [
    "ascii.write(SNUnique, \"../Data/1.FullCatalog.csv\", format='csv', fast_writer=False, overwrite=True)  "
   ]
  },
  {
   "cell_type": "code",
   "execution_count": null,
   "id": "conventional-admission",
   "metadata": {},
   "outputs": [],
   "source": []
  },
  {
   "cell_type": "code",
   "execution_count": null,
   "id": "1e9d899f",
   "metadata": {},
   "outputs": [],
   "source": []
  }
 ],
 "metadata": {
  "kernelspec": {
   "display_name": "Python 3",
   "language": "python",
   "name": "python3"
  },
  "language_info": {
   "codemirror_mode": {
    "name": "ipython",
    "version": 3
   },
   "file_extension": ".py",
   "mimetype": "text/x-python",
   "name": "python",
   "nbconvert_exporter": "python",
   "pygments_lexer": "ipython3",
   "version": "3.8.10"
  }
 },
 "nbformat": 4,
 "nbformat_minor": 5
}
