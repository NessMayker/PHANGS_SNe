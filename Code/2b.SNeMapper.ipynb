{
 "cells": [
  {
   "cell_type": "markdown",
   "metadata": {},
   "source": [
    "This notebook reads in the conbined SNe catalog file ('1.FullCatalog.csv') and searches through PHANGS CO map images, looking for OSC objects that have gone off in the ALMA footprint. \n"
   ]
  },
  {
   "cell_type": "code",
   "execution_count": 1,
   "metadata": {},
   "outputs": [],
   "source": [
    "#import packages and formatting statements\n",
    "\n",
    "import numpy as np\n",
    "from matplotlib import pyplot as plt\n",
    "import astropy.io.fits as pyfits\n",
    "from astropy.table import Table\n",
    "from astropy.wcs import WCS\n",
    "from astropy.io import ascii\n",
    "\n",
    "plt.rc('text',usetex=False)\n",
    "fontsize=20\n",
    "plt.rc('xtick',labelsize=fontsize)\n",
    "plt.rc('ytick',labelsize=fontsize)"
   ]
  },
  {
   "cell_type": "code",
   "execution_count": 20,
   "metadata": {},
   "outputs": [],
   "source": [
    "#OPEN CANDIDATE CATALOG AND READ IN RAS, DECS, NAMES WILL NEED TO UPDATE FOR ALL GALAXIES\n",
    "images = np.loadtxt('../Data/0.PHANGSGalaxiesImg_12_7_tp.txt', dtype = str, unpack=True, usecols = 0)\n"
   ]
  },
  {
   "cell_type": "code",
   "execution_count": 21,
   "metadata": {},
   "outputs": [
    {
     "data": {
      "text/html": [
       "<i>Table length=172907</i>\n",
       "<table id=\"table139893198377456\" class=\"table-striped table-bordered table-condensed\">\n",
       "<thead><tr><th>Name</th><th>Host</th><th>RA</th><th>Dec</th><th>Type</th></tr></thead>\n",
       "<thead><tr><th>str41</th><th>str46</th><th>str11</th><th>str12</th><th>str19</th></tr></thead>\n",
       "<tr><td>&quot;AT 2022ryl&quot;</td><td>&quot;&quot;</td><td>22:19:21.88</td><td>+36:49:10.53</td><td>unclassified</td></tr>\n",
       "<tr><td>&quot;AT 2022ryk&quot;</td><td>&quot;&quot;</td><td>5:36:48.38</td><td>-27:30:11.02</td><td>unclassified</td></tr>\n",
       "<tr><td>&quot;AT 2022ryj&quot;</td><td>&quot;&quot;</td><td>5:23:51.99</td><td>-31:17:06.78</td><td>unclassified</td></tr>\n",
       "<tr><td>&quot;AT 2022ryi&quot;</td><td>&quot;&quot;</td><td>4:19:34.57</td><td>-54:59:03.4</td><td>unclassified</td></tr>\n",
       "<tr><td>&quot;AT 2022ryh&quot;</td><td>&quot;&quot;</td><td>20:10:40.61</td><td>-56:26:51.2</td><td>unclassified</td></tr>\n",
       "<tr><td>&quot;AT 2022ryg&quot;</td><td>&quot;&quot;</td><td>7:10:23.15</td><td>+17:07:35.73</td><td>unclassified</td></tr>\n",
       "<tr><td>&quot;AT 2022ryf&quot;</td><td>&quot;&quot;</td><td>19:52:02.96</td><td>-21:14:33.3</td><td>unclassified</td></tr>\n",
       "<tr><td>&quot;AT 2022rye&quot;</td><td>&quot;&quot;</td><td>23:20:46.85</td><td>-8:08:26.75</td><td>unclassified</td></tr>\n",
       "<tr><td>&quot;AT 2022ryd&quot;</td><td>&quot;&quot;</td><td>19:58:37.49</td><td>+2:35:59.28</td><td>unclassified</td></tr>\n",
       "<tr><td>&quot;AT 2022ryc&quot;</td><td>&quot;&quot;</td><td>13:04:12.45</td><td>-64:52:27.48</td><td>unclassified</td></tr>\n",
       "<tr><td>...</td><td>...</td><td>...</td><td>...</td><td>...</td></tr>\n",
       "<tr><td>&quot;SN185A&quot;</td><td>&quot;Milky Way&quot;</td><td>14:40:48.33</td><td>-61:51:20.0</td><td>Ia</td></tr>\n",
       "<tr><td>&quot;SN1868A&quot;</td><td>&quot;Milky Way&quot;</td><td>12:48:43.5</td><td>-27:09:30.0</td><td>--</td></tr>\n",
       "<tr><td>&quot;SN1935B&quot;</td><td>&quot;NGC 3115&quot;</td><td>10:05:11.34</td><td>-7:42:07.15</td><td>--</td></tr>\n",
       "<tr><td>&quot;SN1954J&quot;</td><td>&quot;NGC 2403&quot;</td><td>7:36:55.64</td><td>+65:37:52.17</td><td>II Pec?</td></tr>\n",
       "<tr><td>&quot;SN1982aa&quot;</td><td>&quot;NGC 6052&quot;</td><td>16:05:12.77</td><td>+20:32:38.37</td><td>--</td></tr>\n",
       "<tr><td>&quot;SN1985M&quot;</td><td>&quot;A220830-4830&quot;</td><td>22:08:28.02</td><td>-48:30:20.5</td><td>--</td></tr>\n",
       "<tr><td>&quot;SN1988M&quot;</td><td>&quot;NGC 4496B&quot;</td><td>12:31:40.94</td><td>+3:55:22.03</td><td>II</td></tr>\n",
       "<tr><td>&quot;SN386A&quot;</td><td>&quot;Milky Way&quot;</td><td>18:11:27.0</td><td>-19:25:00.0</td><td>CC</td></tr>\n",
       "<tr><td>&quot;SN393A&quot;</td><td>&quot;Milky Way&quot;</td><td>17:13:50.0</td><td>-39:24:60.0</td><td>CC</td></tr>\n",
       "<tr><td>&quot;SN837A&quot;</td><td>&quot;Milky Way&quot;</td><td>6:49:60.0</td><td>+9:00:00.0</td><td>Candidate</td></tr>\n",
       "</table>"
      ],
      "text/plain": [
       "<Table length=172907>\n",
       "    Name          Host           RA         Dec          Type    \n",
       "   str41         str46         str11       str12        str19    \n",
       "------------ -------------- ----------- ------------ ------------\n",
       "\"AT 2022ryl\"             \"\" 22:19:21.88 +36:49:10.53 unclassified\n",
       "\"AT 2022ryk\"             \"\"  5:36:48.38 -27:30:11.02 unclassified\n",
       "\"AT 2022ryj\"             \"\"  5:23:51.99 -31:17:06.78 unclassified\n",
       "\"AT 2022ryi\"             \"\"  4:19:34.57  -54:59:03.4 unclassified\n",
       "\"AT 2022ryh\"             \"\" 20:10:40.61  -56:26:51.2 unclassified\n",
       "\"AT 2022ryg\"             \"\"  7:10:23.15 +17:07:35.73 unclassified\n",
       "\"AT 2022ryf\"             \"\" 19:52:02.96  -21:14:33.3 unclassified\n",
       "\"AT 2022rye\"             \"\" 23:20:46.85  -8:08:26.75 unclassified\n",
       "\"AT 2022ryd\"             \"\" 19:58:37.49  +2:35:59.28 unclassified\n",
       "\"AT 2022ryc\"             \"\" 13:04:12.45 -64:52:27.48 unclassified\n",
       "         ...            ...         ...          ...          ...\n",
       "    \"SN185A\"    \"Milky Way\" 14:40:48.33  -61:51:20.0           Ia\n",
       "   \"SN1868A\"    \"Milky Way\"  12:48:43.5  -27:09:30.0           --\n",
       "   \"SN1935B\"     \"NGC 3115\" 10:05:11.34  -7:42:07.15           --\n",
       "   \"SN1954J\"     \"NGC 2403\"  7:36:55.64 +65:37:52.17      II Pec?\n",
       "  \"SN1982aa\"     \"NGC 6052\" 16:05:12.77 +20:32:38.37           --\n",
       "   \"SN1985M\" \"A220830-4830\" 22:08:28.02  -48:30:20.5           --\n",
       "   \"SN1988M\"    \"NGC 4496B\" 12:31:40.94  +3:55:22.03           II\n",
       "    \"SN386A\"    \"Milky Way\"  18:11:27.0  -19:25:00.0           CC\n",
       "    \"SN393A\"    \"Milky Way\"  17:13:50.0  -39:24:60.0           CC\n",
       "    \"SN837A\"    \"Milky Way\"   6:49:60.0   +9:00:00.0    Candidate"
      ]
     },
     "execution_count": 21,
     "metadata": {},
     "output_type": "execute_result"
    }
   ],
   "source": [
    "FullCat = '/home/maykerchen.1/Desktop/PHANGS_SNe/Data/2.RecentSNe2019.'\n",
    "SNTable = Table.read(FullCat, format='csv')\n",
    "SNTable"
   ]
  },
  {
   "cell_type": "code",
   "execution_count": 26,
   "metadata": {},
   "outputs": [],
   "source": [
    "#CHECK IF RAS AND DECS ARE IN AN IMAGE\n",
    "def check_in_image(SNras, SNdecs, SNnames, SNtypes, GalaxyImg):\n",
    "    hdulist = pyfits.open(GalaxyImg)\n",
    "    map = hdulist[0].data\n",
    "    wcs = WCS(hdulist[0].header, naxis=2)\n",
    "\n",
    "    #convert to decimal degrees\n",
    "    SNras = \n",
    "    SNdecs = \n",
    "    \n",
    "    coords_arr = np.column_stack((SNras, SNdecs)) # ras and decs now [ra,dec]\n",
    "    pix_x, pix_y = wcs.wcs_world2pix(SNras,SNdecs,0)\n",
    "\n",
    "    #use world coordinates of all SNe to see if any fall in image (our version of footprint_contains)\n",
    "    naxis = wcs._naxis #size of image\n",
    "    naxis1 = hdulist[0].header['NAXIS1']\n",
    "    naxis2 = hdulist[0].header['NAXIS2']\n",
    "    is_in_x = (pix_x >= 0) & (pix_x <= naxis[0]-1) #because of 0-indexing\n",
    "    is_in_y = (pix_y >= 0) & (pix_y <= naxis[1]-1)\n",
    "             \n",
    "    #get the name, ra, and dec of the SNe that fall in image\n",
    "    #boolean array indexing (gives back array of Trues and Falses)\n",
    "    #we are pulling out the SNe that are True and assigning them to own arrays\n",
    "    name_in_image = np.array(SNnames)[is_in_x & is_in_y]\n",
    "    type_in_image = np.array(SNtypes)[is_in_x & is_in_y]\n",
    "    ra_in_image = np.array(SNras)[is_in_x & is_in_y]\n",
    "    dec_in_image = np.array(SNdecs)[is_in_x & is_in_y]\n",
    "\n",
    "    x_coord = np.array(pix_x)[is_in_x & is_in_y]\n",
    "    y_coord = np.array(pix_y)[is_in_x & is_in_y]\n",
    "    \n",
    "    return (name_in_image, type_in_image, ra_in_image, dec_in_image, x_coord, y_coord, map, naxis1, naxis2)"
   ]
  },
  {
   "cell_type": "code",
   "execution_count": 27,
   "metadata": {},
   "outputs": [],
   "source": [
    "dataFile = '../Data/1.FullCatalog.csv'\n",
    "data = Table.read(dataFile, format='csv')\n"
   ]
  },
  {
   "cell_type": "code",
   "execution_count": 28,
   "metadata": {},
   "outputs": [
    {
     "data": {
      "text/html": [
       "<i>Table length=172907</i>\n",
       "<table id=\"table139894070896336\" class=\"table-striped table-bordered table-condensed\">\n",
       "<thead><tr><th>Name</th><th>Host</th><th>RA</th><th>Dec</th><th>Type</th></tr></thead>\n",
       "<thead><tr><th>str41</th><th>str46</th><th>str11</th><th>str12</th><th>str19</th></tr></thead>\n",
       "<tr><td>&quot;AT 2022ryl&quot;</td><td>&quot;&quot;</td><td>22:19:21.88</td><td>+36:49:10.53</td><td>unclassified</td></tr>\n",
       "<tr><td>&quot;AT 2022ryk&quot;</td><td>&quot;&quot;</td><td>5:36:48.38</td><td>-27:30:11.02</td><td>unclassified</td></tr>\n",
       "<tr><td>&quot;AT 2022ryj&quot;</td><td>&quot;&quot;</td><td>5:23:51.99</td><td>-31:17:06.78</td><td>unclassified</td></tr>\n",
       "<tr><td>&quot;AT 2022ryi&quot;</td><td>&quot;&quot;</td><td>4:19:34.57</td><td>-54:59:03.4</td><td>unclassified</td></tr>\n",
       "<tr><td>&quot;AT 2022ryh&quot;</td><td>&quot;&quot;</td><td>20:10:40.61</td><td>-56:26:51.2</td><td>unclassified</td></tr>\n",
       "<tr><td>&quot;AT 2022ryg&quot;</td><td>&quot;&quot;</td><td>7:10:23.15</td><td>+17:07:35.73</td><td>unclassified</td></tr>\n",
       "<tr><td>&quot;AT 2022ryf&quot;</td><td>&quot;&quot;</td><td>19:52:02.96</td><td>-21:14:33.3</td><td>unclassified</td></tr>\n",
       "<tr><td>&quot;AT 2022rye&quot;</td><td>&quot;&quot;</td><td>23:20:46.85</td><td>-8:08:26.75</td><td>unclassified</td></tr>\n",
       "<tr><td>&quot;AT 2022ryd&quot;</td><td>&quot;&quot;</td><td>19:58:37.49</td><td>+2:35:59.28</td><td>unclassified</td></tr>\n",
       "<tr><td>&quot;AT 2022ryc&quot;</td><td>&quot;&quot;</td><td>13:04:12.45</td><td>-64:52:27.48</td><td>unclassified</td></tr>\n",
       "<tr><td>...</td><td>...</td><td>...</td><td>...</td><td>...</td></tr>\n",
       "<tr><td>&quot;SN185A&quot;</td><td>&quot;Milky Way&quot;</td><td>14:40:48.33</td><td>-61:51:20.0</td><td>Ia</td></tr>\n",
       "<tr><td>&quot;SN1868A&quot;</td><td>&quot;Milky Way&quot;</td><td>12:48:43.5</td><td>-27:09:30.0</td><td>--</td></tr>\n",
       "<tr><td>&quot;SN1935B&quot;</td><td>&quot;NGC 3115&quot;</td><td>10:05:11.34</td><td>-7:42:07.15</td><td>--</td></tr>\n",
       "<tr><td>&quot;SN1954J&quot;</td><td>&quot;NGC 2403&quot;</td><td>7:36:55.64</td><td>+65:37:52.17</td><td>II Pec?</td></tr>\n",
       "<tr><td>&quot;SN1982aa&quot;</td><td>&quot;NGC 6052&quot;</td><td>16:05:12.77</td><td>+20:32:38.37</td><td>--</td></tr>\n",
       "<tr><td>&quot;SN1985M&quot;</td><td>&quot;A220830-4830&quot;</td><td>22:08:28.02</td><td>-48:30:20.5</td><td>--</td></tr>\n",
       "<tr><td>&quot;SN1988M&quot;</td><td>&quot;NGC 4496B&quot;</td><td>12:31:40.94</td><td>+3:55:22.03</td><td>II</td></tr>\n",
       "<tr><td>&quot;SN386A&quot;</td><td>&quot;Milky Way&quot;</td><td>18:11:27.0</td><td>-19:25:00.0</td><td>CC</td></tr>\n",
       "<tr><td>&quot;SN393A&quot;</td><td>&quot;Milky Way&quot;</td><td>17:13:50.0</td><td>-39:24:60.0</td><td>CC</td></tr>\n",
       "<tr><td>&quot;SN837A&quot;</td><td>&quot;Milky Way&quot;</td><td>6:49:60.0</td><td>+9:00:00.0</td><td>Candidate</td></tr>\n",
       "</table>"
      ],
      "text/plain": [
       "<Table length=172907>\n",
       "    Name          Host           RA         Dec          Type    \n",
       "   str41         str46         str11       str12        str19    \n",
       "------------ -------------- ----------- ------------ ------------\n",
       "\"AT 2022ryl\"             \"\" 22:19:21.88 +36:49:10.53 unclassified\n",
       "\"AT 2022ryk\"             \"\"  5:36:48.38 -27:30:11.02 unclassified\n",
       "\"AT 2022ryj\"             \"\"  5:23:51.99 -31:17:06.78 unclassified\n",
       "\"AT 2022ryi\"             \"\"  4:19:34.57  -54:59:03.4 unclassified\n",
       "\"AT 2022ryh\"             \"\" 20:10:40.61  -56:26:51.2 unclassified\n",
       "\"AT 2022ryg\"             \"\"  7:10:23.15 +17:07:35.73 unclassified\n",
       "\"AT 2022ryf\"             \"\" 19:52:02.96  -21:14:33.3 unclassified\n",
       "\"AT 2022rye\"             \"\" 23:20:46.85  -8:08:26.75 unclassified\n",
       "\"AT 2022ryd\"             \"\" 19:58:37.49  +2:35:59.28 unclassified\n",
       "\"AT 2022ryc\"             \"\" 13:04:12.45 -64:52:27.48 unclassified\n",
       "         ...            ...         ...          ...          ...\n",
       "    \"SN185A\"    \"Milky Way\" 14:40:48.33  -61:51:20.0           Ia\n",
       "   \"SN1868A\"    \"Milky Way\"  12:48:43.5  -27:09:30.0           --\n",
       "   \"SN1935B\"     \"NGC 3115\" 10:05:11.34  -7:42:07.15           --\n",
       "   \"SN1954J\"     \"NGC 2403\"  7:36:55.64 +65:37:52.17      II Pec?\n",
       "  \"SN1982aa\"     \"NGC 6052\" 16:05:12.77 +20:32:38.37           --\n",
       "   \"SN1985M\" \"A220830-4830\" 22:08:28.02  -48:30:20.5           --\n",
       "   \"SN1988M\"    \"NGC 4496B\" 12:31:40.94  +3:55:22.03           II\n",
       "    \"SN386A\"    \"Milky Way\"  18:11:27.0  -19:25:00.0           CC\n",
       "    \"SN393A\"    \"Milky Way\"  17:13:50.0  -39:24:60.0           CC\n",
       "    \"SN837A\"    \"Milky Way\"   6:49:60.0   +9:00:00.0    Candidate"
      ]
     },
     "execution_count": 28,
     "metadata": {},
     "output_type": "execute_result"
    }
   ],
   "source": [
    "data"
   ]
  },
  {
   "cell_type": "code",
   "execution_count": 29,
   "metadata": {
    "scrolled": true
   },
   "outputs": [
    {
     "name": "stdout",
     "output_type": "stream",
     "text": [
      "     RA    \n",
      "-----------\n",
      "22:19:21.88\n",
      " 5:36:48.38\n",
      " 5:23:51.99\n",
      " 4:19:34.57\n",
      "20:10:40.61\n",
      " 7:10:23.15\n",
      "19:52:02.96\n",
      "23:20:46.85\n",
      "19:58:37.49\n",
      "13:04:12.45\n",
      "        ...\n",
      "  2:05:50.5\n",
      "14:40:48.33\n",
      " 12:48:43.5\n",
      "10:05:11.34\n",
      " 7:36:55.64\n",
      "16:05:12.77\n",
      "22:08:28.02\n",
      "12:31:40.94\n",
      " 18:11:27.0\n",
      " 17:13:50.0\n",
      "  6:49:60.0\n",
      "Length = 172907 rows\n"
     ]
    },
    {
     "ename": "TypeError",
     "evalue": "Cannot cast array data from dtype('<U12') to dtype('float64') according to the rule 'safe'",
     "output_type": "error",
     "traceback": [
      "\u001b[0;31m---------------------------------------------------------------------------\u001b[0m",
      "\u001b[0;31mTypeError\u001b[0m                                 Traceback (most recent call last)",
      "\u001b[0;32m<ipython-input-29-5064dc1c94a7>\u001b[0m in \u001b[0;36m<module>\u001b[0;34m\u001b[0m\n\u001b[1;32m      3\u001b[0m \u001b[0;32mfor\u001b[0m \u001b[0mi\u001b[0m \u001b[0;32min\u001b[0m \u001b[0mrange\u001b[0m\u001b[0;34m(\u001b[0m\u001b[0mlen\u001b[0m\u001b[0;34m(\u001b[0m\u001b[0mimages\u001b[0m\u001b[0;34m)\u001b[0m\u001b[0;34m)\u001b[0m\u001b[0;34m:\u001b[0m\u001b[0;34m\u001b[0m\u001b[0;34m\u001b[0m\u001b[0m\n\u001b[1;32m      4\u001b[0m \u001b[0;34m\u001b[0m\u001b[0m\n\u001b[0;32m----> 5\u001b[0;31m     \u001b[0mfound_name\u001b[0m\u001b[0;34m,\u001b[0m \u001b[0mfound_type\u001b[0m\u001b[0;34m,\u001b[0m \u001b[0mfound_ra\u001b[0m\u001b[0;34m,\u001b[0m \u001b[0mfound_dec\u001b[0m\u001b[0;34m,\u001b[0m \u001b[0mx_coord\u001b[0m\u001b[0;34m,\u001b[0m \u001b[0my_coord\u001b[0m\u001b[0;34m,\u001b[0m \u001b[0mmap\u001b[0m\u001b[0;34m,\u001b[0m \u001b[0mnaxis1\u001b[0m\u001b[0;34m,\u001b[0m \u001b[0mnaxis2\u001b[0m \u001b[0;34m=\u001b[0m \u001b[0mcheck_in_image\u001b[0m\u001b[0;34m(\u001b[0m\u001b[0mdata\u001b[0m\u001b[0;34m[\u001b[0m\u001b[0;34m'RA'\u001b[0m\u001b[0;34m]\u001b[0m\u001b[0;34m,\u001b[0m \u001b[0mdata\u001b[0m\u001b[0;34m[\u001b[0m\u001b[0;34m'Dec'\u001b[0m\u001b[0;34m]\u001b[0m\u001b[0;34m,\u001b[0m \u001b[0mdata\u001b[0m\u001b[0;34m[\u001b[0m\u001b[0;34m'Name'\u001b[0m\u001b[0;34m]\u001b[0m\u001b[0;34m,\u001b[0m \u001b[0mdata\u001b[0m\u001b[0;34m[\u001b[0m\u001b[0;34m'Type'\u001b[0m\u001b[0;34m]\u001b[0m\u001b[0;34m,\u001b[0m \u001b[0mimages\u001b[0m\u001b[0;34m[\u001b[0m\u001b[0mi\u001b[0m\u001b[0;34m]\u001b[0m\u001b[0;34m)\u001b[0m\u001b[0;34m\u001b[0m\u001b[0;34m\u001b[0m\u001b[0m\n\u001b[0m\u001b[1;32m      6\u001b[0m \u001b[0;34m\u001b[0m\u001b[0m\n\u001b[1;32m      7\u001b[0m     \u001b[0mplt\u001b[0m\u001b[0;34m.\u001b[0m\u001b[0mfigure\u001b[0m\u001b[0;34m(\u001b[0m\u001b[0mfigsize\u001b[0m\u001b[0;34m=\u001b[0m\u001b[0;34m(\u001b[0m\u001b[0;36m7\u001b[0m\u001b[0;34m,\u001b[0m \u001b[0;36m7\u001b[0m\u001b[0;34m)\u001b[0m\u001b[0;34m)\u001b[0m\u001b[0;34m\u001b[0m\u001b[0;34m\u001b[0m\u001b[0m\n",
      "\u001b[0;32m<ipython-input-26-09327628329f>\u001b[0m in \u001b[0;36mcheck_in_image\u001b[0;34m(SNras, SNdecs, SNnames, SNtypes, GalaxyImg)\u001b[0m\n\u001b[1;32m      7\u001b[0m \u001b[0;34m\u001b[0m\u001b[0m\n\u001b[1;32m      8\u001b[0m     \u001b[0mcoords_arr\u001b[0m \u001b[0;34m=\u001b[0m \u001b[0mnp\u001b[0m\u001b[0;34m.\u001b[0m\u001b[0mcolumn_stack\u001b[0m\u001b[0;34m(\u001b[0m\u001b[0;34m(\u001b[0m\u001b[0mSNras\u001b[0m\u001b[0;34m,\u001b[0m \u001b[0mSNdecs\u001b[0m\u001b[0;34m)\u001b[0m\u001b[0;34m)\u001b[0m \u001b[0;31m# ras and decs now [ra,dec]\u001b[0m\u001b[0;34m\u001b[0m\u001b[0;34m\u001b[0m\u001b[0m\n\u001b[0;32m----> 9\u001b[0;31m     \u001b[0mpix_x\u001b[0m\u001b[0;34m,\u001b[0m \u001b[0mpix_y\u001b[0m \u001b[0;34m=\u001b[0m \u001b[0mwcs\u001b[0m\u001b[0;34m.\u001b[0m\u001b[0mwcs_world2pix\u001b[0m\u001b[0;34m(\u001b[0m\u001b[0mSNras\u001b[0m\u001b[0;34m,\u001b[0m\u001b[0mSNdecs\u001b[0m\u001b[0;34m,\u001b[0m\u001b[0;36m0\u001b[0m\u001b[0;34m)\u001b[0m\u001b[0;34m\u001b[0m\u001b[0;34m\u001b[0m\u001b[0m\n\u001b[0m\u001b[1;32m     10\u001b[0m \u001b[0;34m\u001b[0m\u001b[0m\n\u001b[1;32m     11\u001b[0m     \u001b[0;31m#use world coordinates of all SNe to see if any fall in image (our version of footprint_contains)\u001b[0m\u001b[0;34m\u001b[0m\u001b[0;34m\u001b[0m\u001b[0;34m\u001b[0m\u001b[0m\n",
      "\u001b[0;32m/opt/modules/python/3.8/lib/python3.8/site-packages/astropy/wcs/wcs.py\u001b[0m in \u001b[0;36mwcs_world2pix\u001b[0;34m(self, *args, **kwargs)\u001b[0m\n\u001b[1;32m   2222\u001b[0m         \u001b[0;32mif\u001b[0m \u001b[0mself\u001b[0m\u001b[0;34m.\u001b[0m\u001b[0mwcs\u001b[0m \u001b[0;32mis\u001b[0m \u001b[0;32mNone\u001b[0m\u001b[0;34m:\u001b[0m\u001b[0;34m\u001b[0m\u001b[0;34m\u001b[0m\u001b[0m\n\u001b[1;32m   2223\u001b[0m             \u001b[0;32mraise\u001b[0m \u001b[0mValueError\u001b[0m\u001b[0;34m(\u001b[0m\u001b[0;34m\"No basic WCS settings were created.\"\u001b[0m\u001b[0;34m)\u001b[0m\u001b[0;34m\u001b[0m\u001b[0;34m\u001b[0m\u001b[0m\n\u001b[0;32m-> 2224\u001b[0;31m         return self._array_converter(\n\u001b[0m\u001b[1;32m   2225\u001b[0m             \u001b[0;32mlambda\u001b[0m \u001b[0mxy\u001b[0m\u001b[0;34m,\u001b[0m \u001b[0mo\u001b[0m\u001b[0;34m:\u001b[0m \u001b[0mself\u001b[0m\u001b[0;34m.\u001b[0m\u001b[0mwcs\u001b[0m\u001b[0;34m.\u001b[0m\u001b[0ms2p\u001b[0m\u001b[0;34m(\u001b[0m\u001b[0mxy\u001b[0m\u001b[0;34m,\u001b[0m \u001b[0mo\u001b[0m\u001b[0;34m)\u001b[0m\u001b[0;34m[\u001b[0m\u001b[0;34m'pixcrd'\u001b[0m\u001b[0;34m]\u001b[0m\u001b[0;34m,\u001b[0m\u001b[0;34m\u001b[0m\u001b[0;34m\u001b[0m\u001b[0m\n\u001b[1;32m   2226\u001b[0m             'input', *args, **kwargs)\n",
      "\u001b[0;32m/opt/modules/python/3.8/lib/python3.8/site-packages/astropy/wcs/wcs.py\u001b[0m in \u001b[0;36m_array_converter\u001b[0;34m(self, func, sky, ra_dec_order, *args)\u001b[0m\n\u001b[1;32m   1334\u001b[0m                     \"a 1-D array for each axis, followed by an origin.\")\n\u001b[1;32m   1335\u001b[0m \u001b[0;34m\u001b[0m\u001b[0m\n\u001b[0;32m-> 1336\u001b[0;31m             \u001b[0;32mreturn\u001b[0m \u001b[0m_return_list_of_arrays\u001b[0m\u001b[0;34m(\u001b[0m\u001b[0maxes\u001b[0m\u001b[0;34m,\u001b[0m \u001b[0morigin\u001b[0m\u001b[0;34m)\u001b[0m\u001b[0;34m\u001b[0m\u001b[0;34m\u001b[0m\u001b[0m\n\u001b[0m\u001b[1;32m   1337\u001b[0m \u001b[0;34m\u001b[0m\u001b[0m\n\u001b[1;32m   1338\u001b[0m         raise TypeError(\n",
      "\u001b[0;32m/opt/modules/python/3.8/lib/python3.8/site-packages/astropy/wcs/wcs.py\u001b[0m in \u001b[0;36m_return_list_of_arrays\u001b[0;34m(axes, origin)\u001b[0m\n\u001b[1;32m   1288\u001b[0m             \u001b[0;32mif\u001b[0m \u001b[0mra_dec_order\u001b[0m \u001b[0;32mand\u001b[0m \u001b[0msky\u001b[0m \u001b[0;34m==\u001b[0m \u001b[0;34m'input'\u001b[0m\u001b[0;34m:\u001b[0m\u001b[0;34m\u001b[0m\u001b[0;34m\u001b[0m\u001b[0m\n\u001b[1;32m   1289\u001b[0m                 \u001b[0mxy\u001b[0m \u001b[0;34m=\u001b[0m \u001b[0mself\u001b[0m\u001b[0;34m.\u001b[0m\u001b[0m_denormalize_sky\u001b[0m\u001b[0;34m(\u001b[0m\u001b[0mxy\u001b[0m\u001b[0;34m)\u001b[0m\u001b[0;34m\u001b[0m\u001b[0;34m\u001b[0m\u001b[0m\n\u001b[0;32m-> 1290\u001b[0;31m             \u001b[0moutput\u001b[0m \u001b[0;34m=\u001b[0m \u001b[0mfunc\u001b[0m\u001b[0;34m(\u001b[0m\u001b[0mxy\u001b[0m\u001b[0;34m,\u001b[0m \u001b[0morigin\u001b[0m\u001b[0;34m)\u001b[0m\u001b[0;34m\u001b[0m\u001b[0;34m\u001b[0m\u001b[0m\n\u001b[0m\u001b[1;32m   1291\u001b[0m             \u001b[0;32mif\u001b[0m \u001b[0mra_dec_order\u001b[0m \u001b[0;32mand\u001b[0m \u001b[0msky\u001b[0m \u001b[0;34m==\u001b[0m \u001b[0;34m'output'\u001b[0m\u001b[0;34m:\u001b[0m\u001b[0;34m\u001b[0m\u001b[0;34m\u001b[0m\u001b[0m\n\u001b[1;32m   1292\u001b[0m                 \u001b[0moutput\u001b[0m \u001b[0;34m=\u001b[0m \u001b[0mself\u001b[0m\u001b[0;34m.\u001b[0m\u001b[0m_normalize_sky\u001b[0m\u001b[0;34m(\u001b[0m\u001b[0moutput\u001b[0m\u001b[0;34m)\u001b[0m\u001b[0;34m\u001b[0m\u001b[0;34m\u001b[0m\u001b[0m\n",
      "\u001b[0;32m/opt/modules/python/3.8/lib/python3.8/site-packages/astropy/wcs/wcs.py\u001b[0m in \u001b[0;36m<lambda>\u001b[0;34m(xy, o)\u001b[0m\n\u001b[1;32m   2223\u001b[0m             \u001b[0;32mraise\u001b[0m \u001b[0mValueError\u001b[0m\u001b[0;34m(\u001b[0m\u001b[0;34m\"No basic WCS settings were created.\"\u001b[0m\u001b[0;34m)\u001b[0m\u001b[0;34m\u001b[0m\u001b[0;34m\u001b[0m\u001b[0m\n\u001b[1;32m   2224\u001b[0m         return self._array_converter(\n\u001b[0;32m-> 2225\u001b[0;31m             \u001b[0;32mlambda\u001b[0m \u001b[0mxy\u001b[0m\u001b[0;34m,\u001b[0m \u001b[0mo\u001b[0m\u001b[0;34m:\u001b[0m \u001b[0mself\u001b[0m\u001b[0;34m.\u001b[0m\u001b[0mwcs\u001b[0m\u001b[0;34m.\u001b[0m\u001b[0ms2p\u001b[0m\u001b[0;34m(\u001b[0m\u001b[0mxy\u001b[0m\u001b[0;34m,\u001b[0m \u001b[0mo\u001b[0m\u001b[0;34m)\u001b[0m\u001b[0;34m[\u001b[0m\u001b[0;34m'pixcrd'\u001b[0m\u001b[0;34m]\u001b[0m\u001b[0;34m,\u001b[0m\u001b[0;34m\u001b[0m\u001b[0;34m\u001b[0m\u001b[0m\n\u001b[0m\u001b[1;32m   2226\u001b[0m             'input', *args, **kwargs)\n\u001b[1;32m   2227\u001b[0m     wcs_world2pix.__doc__ = \"\"\"\n",
      "\u001b[0;31mTypeError\u001b[0m: Cannot cast array data from dtype('<U12') to dtype('float64') according to the rule 'safe'"
     ]
    }
   ],
   "source": [
    "# Recreate Galaxy Files That have only cleaned objects\n",
    "\n",
    "for i in range(len(images)):\n",
    "    \n",
    "    found_name, found_type, found_ra, found_dec, x_coord, y_coord, map, naxis1, naxis2 = check_in_image(data['RA'], data['Dec'], data['Name'], data['Type'], images[i])\n",
    "    \n",
    "    plt.figure(figsize=(7, 7))\n",
    "    logmap = np.log10(map)\n",
    "    plt.imshow(logmap, origin='lower', interpolation='nearest', zorder=1)\n",
    "    \n",
    "    for k in range(len(found_name)):\n",
    "\n",
    "        string = found_name[k]\n",
    "        \n",
    "        if (len(found_type[k])>1):\n",
    "            if found_type[k][1] == \"I\":\n",
    "                #colorCode = 'chartreuse'\n",
    "                colorCode = 'black'\n",
    "                mkr = '*'\n",
    "            elif found_type[k][1] == \"b\" or found_type[k][1] == \"c\":\n",
    "                #colorCode = 'salmon'\n",
    "                colorCode = 'darkblue'\n",
    "                mkr = '^'\n",
    "            elif found_type[k][1] == \"a\":\n",
    "                #colorCode = 'deeppink'\n",
    "                colorCode = 'indigo'\n",
    "                mkr = 'o'\n",
    "            else:\n",
    "                colorCode = 'slategrey'\n",
    "                mkr = ''\n",
    "        else:\n",
    "            #colorCode = 'cyan'\n",
    "            colorCode = 'maroon'\n",
    "            mkr='s'\n",
    "            \n",
    "        plt.plot(x_coord[k], y_coord[k], marker=mkr, ms=15, color=colorCode, zorder=10)\n",
    "        plt.text(x_coord[k]-20, y_coord[k]+8, string, fontsize=16, fontweight='bold', color=colorCode)\n",
    "        \n",
    "    plt.axis('off')\n",
    "    plt.title(galaxies[i], fontsize=24, fontweight='bold')\n",
    "    plt.tight_layout()\n",
    "    plt.savefig('../Figures/AllGalaxyImages/' + galaxies[i] + '.png')\n",
    "    if (len(found_name) > 0):\n",
    "        plt.savefig('../Figures/SNGalaxyImages/' + galaxies[i] + '.png')\n",
    "    plt.close()"
   ]
  },
  {
   "cell_type": "code",
   "execution_count": null,
   "metadata": {},
   "outputs": [],
   "source": []
  }
 ],
 "metadata": {
  "kernelspec": {
   "display_name": "Python 3",
   "language": "python",
   "name": "python3"
  },
  "language_info": {
   "codemirror_mode": {
    "name": "ipython",
    "version": 3
   },
   "file_extension": ".py",
   "mimetype": "text/x-python",
   "name": "python",
   "nbconvert_exporter": "python",
   "pygments_lexer": "ipython3",
   "version": "3.8.10"
  }
 },
 "nbformat": 4,
 "nbformat_minor": 2
}
