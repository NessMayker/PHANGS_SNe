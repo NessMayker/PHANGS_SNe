{
 "cells": [
  {
   "cell_type": "markdown",
   "id": "neutral-exclusive",
   "metadata": {},
   "source": [
    "Reduces the Full Catalog to a catalog containing only those SNe that have occurred within the overall PHANGS galaxies footprint\n",
    "\n",
    "Saves catalog table as '../Data/1.PHANGS_SNe.csv'"
   ]
  },
  {
   "cell_type": "markdown",
   "id": "79efeeb3",
   "metadata": {},
   "source": [
    "Footprint taken from the sfsynthesis headers from Adam:\n",
    "Big Galaxy Footprints\n",
    "/data/tycho/0/leroy.42/projects/sfsynthesis/working_data/target_headers/<galaxy>_template<2or3d>_<restype>.fits"
   ]
  },
  {
   "cell_type": "code",
   "execution_count": 1,
   "id": "demonstrated-christianity",
   "metadata": {},
   "outputs": [],
   "source": [
    "# IMPORT PACKAGES\n",
    "import numpy as np\n",
    "from matplotlib import pyplot as plt\n",
    "import astropy.io.fits as pyfits\n",
    "from astropy.table import Table, vstack, unique\n",
    "from astropy.wcs import WCS\n",
    "from astropy.io import ascii\n",
    "import astropy\n",
    "from astropy.io import fits\n",
    "import os.path\n",
    "from os import path\n"
   ]
  },
  {
   "cell_type": "code",
   "execution_count": 2,
   "id": "designing-commissioner",
   "metadata": {
    "scrolled": true
   },
   "outputs": [
    {
     "name": "stdout",
     "output_type": "stream",
     "text": [
      "No file for ngc0224\n",
      "There are 118 in the PHANGS Survey!\n",
      "we have footprint files for 117 of them\n"
     ]
    }
   ],
   "source": [
    "# Import SN data\n",
    "\n",
    "SN_Cat_File = '../Data/1.FullCatalog.csv'\n",
    "SN_Cat = Table.read(SN_Cat_File, format='csv') \n",
    "SN_Cat[0]\n",
    "\n",
    "# Import PHANGS Galaxy Names\n",
    "\n",
    "PHANGS_File = '../Data/0.PHANGS_v1p6.csv'\n",
    "PHANGS = Table.read(PHANGS_File, format='csv')\n",
    "galaxies = PHANGS['galaxy'].astype(object) # removes the string truncating problem when editing galaxy names.\n",
    "for i in range(len(galaxies)):   # Circinus is also known as ESO097-013\n",
    "    if galaxies[i] == \"circinus\":\n",
    "        galaxies[i] = \"eso097-013\"\n",
    "\n",
    "# Construct FileName List\n",
    "\n",
    "prefix = \"/data/tycho/0/leroy.42/projects/sfsynthesis/working_data/target_headers/\"\n",
    "suffix = \"_template3d_native.fits\"\n",
    "fileNames = [prefix + x + suffix for x in galaxies]\n",
    "fileFlags = [True for x in galaxies]\n",
    "\n",
    "for i in range(len(fileNames)):   #If no 3d file, use 2d\n",
    "    \n",
    "    if path.isfile(fileNames[i]) == False:\n",
    "        fileNames[i] = fileNames[i].replace('3d', '2d')\n",
    "        \n",
    "        if path.isfile(fileNames[i]) == False: #If no 2d file, notify and remove this galaxy from sample\n",
    "            print(\"No file for\",galaxies[i])\n",
    "            fileFlags[i] = False\n",
    "\n",
    "print(\"There are\", len(galaxies), \"in the PHANGS Survey!\")\n",
    "print(\"we have footprint files for\", len(np.where(fileFlags)[0]),\"of them\")"
   ]
  },
  {
   "cell_type": "code",
   "execution_count": 3,
   "id": "71d8d448",
   "metadata": {},
   "outputs": [],
   "source": [
    "# Function Calls\n",
    "\n",
    "# function to see if a SN is in galaxy map\n",
    "def check_in_image(SN_Cat, GalaxyImg): # ras and decs in decimal degrees\n",
    "    \n",
    "    hdulist = pyfits.open(GalaxyImg)\n",
    "    map = hdulist[0].data\n",
    "    wcs = WCS(hdulist[0].header, naxis=2)\n",
    "\n",
    "    coords_arr = np.column_stack((SN_Cat[\"RA dds\"], SN_Cat[\"Dec dds\"])) # ras and decs now [ra,dec]\n",
    "    pix_x, pix_y = wcs.wcs_world2pix(SN_Cat[\"RA dds\"], SN_Cat[\"Dec dds\"],0)\n",
    "\n",
    "    #use world coordinates of all SNe to see if any fall in image (our version of footprint_contains)\n",
    "    naxis = wcs._naxis #size of image\n",
    "    naxis1 = hdulist[0].header['NAXIS1']\n",
    "    naxis2 = hdulist[0].header['NAXIS2']\n",
    "    is_in_x = (pix_x >= 0) & (pix_x <= naxis[0]-1) #because of 0-indexing\n",
    "    is_in_y = (pix_y >= 0) & (pix_y <= naxis[1]-1)\n",
    "\n",
    "    #get the name, ra, and dec of the SNe that fall in image\n",
    "    #boolean array indexing (gives back array of Trues and Falses)\n",
    "    #we are pulling out the SNe that are True and assigning them to own arrays\n",
    "    name_in_image = np.array(SN_Cat[\"Name\"])[is_in_x & is_in_y]\n",
    "    type_in_image = np.array(SN_Cat[\"Type\"])[is_in_x & is_in_y]\n",
    "    ra_in_image = np.array(SN_Cat[\"RA dds\"])[is_in_x & is_in_y]\n",
    "    dec_in_image = np.array(SN_Cat[\"Dec dds\"])[is_in_x & is_in_y]\n",
    "    dd_in_image = np.array(SN_Cat[\"DiscDate\"])[is_in_x & is_in_y]\n",
    "\n",
    "    x_coord = np.array(pix_x)[is_in_x & is_in_y]\n",
    "    y_coord = np.array(pix_y)[is_in_x & is_in_y]\n",
    "\n",
    "    data=[]\n",
    "    for k in range(len(name_in_image)):\n",
    "        row = [name_in_image[k], type_in_image[k], ra_in_image[k], dec_in_image[k], dd_in_image[k]]\n",
    "        data.append(row)\n",
    "    return (data)"
   ]
  },
  {
   "cell_type": "code",
   "execution_count": 4,
   "id": "conventional-admission",
   "metadata": {},
   "outputs": [],
   "source": [
    "# Check in Footprint Images for SN\n",
    "\n",
    "PHANGS_SNeData, PHANGS_Gal = [],[]\n",
    "\n",
    "for i in range(len(fileNames)):\n",
    "    if(fileFlags[i])==True:\n",
    "        checkInImageData = check_in_image(SN_Cat, fileNames[i])\n",
    "        for j in range(len(checkInImageData)):\n",
    "            PHANGS_SNeData.append(checkInImageData[j])\n",
    "            PHANGS_Gal.append(galaxies[i])\n",
    "PHANGS_SNeData = np.asarray(PHANGS_SNeData)"
   ]
  },
  {
   "cell_type": "code",
   "execution_count": 5,
   "id": "d7ae809b",
   "metadata": {},
   "outputs": [
    {
     "data": {
      "text/html": [
       "<i>Table length=2</i>\n",
       "<table id=\"table139752135414112\" class=\"table-striped table-bordered table-condensed\">\n",
       "<thead><tr><th>SNe Name</th><th>SNe Type</th><th>Galaxy</th><th>SNe Ra</th><th>SNe Dec</th><th>Discovery Date</th></tr></thead>\n",
       "<thead><tr><th>str32</th><th>str32</th><th>str10</th><th>str32</th><th>str32</th><th>str32</th></tr></thead>\n",
       "<tr><td>AT2020juh</td><td>Candidate</td><td>eso097-013</td><td>213.337875</td><td>-65.34130138888888</td><td>2020/05/12</td></tr>\n",
       "<tr><td>SN1996cr</td><td>II</td><td>eso097-013</td><td>213.29176388888888</td><td>-65.34570462962962</td><td>1996/03/16</td></tr>\n",
       "</table>"
      ],
      "text/plain": [
       "<Table length=2>\n",
       " SNe Name  SNe Type   Galaxy   ...      SNe Dec       Discovery Date\n",
       "  str32     str32     str10    ...       str32            str32     \n",
       "--------- --------- ---------- ... ------------------ --------------\n",
       "AT2020juh Candidate eso097-013 ... -65.34130138888888     2020/05/12\n",
       " SN1996cr        II eso097-013 ... -65.34570462962962     1996/03/16"
      ]
     },
     "execution_count": 5,
     "metadata": {},
     "output_type": "execute_result"
    }
   ],
   "source": [
    "## Compile SN info from table + galaxy name for PHANGS_SNe catalog\n",
    "\n",
    "PHANGS_SNe = Table({\"SNe Name\": PHANGS_SNeData[:,0],\n",
    "                    \"SNe Type\": PHANGS_SNeData[:,1],\n",
    "                    \"Galaxy\"  : PHANGS_Gal,\n",
    "                    \"SNe Ra\"  : PHANGS_SNeData[:,2],\n",
    "                    \"SNe Dec\" : PHANGS_SNeData[:,3],\n",
    "                    \"Discovery Date\": PHANGS_SNeData[:,4]})\n",
    "\n",
    "PHANGS_SNe[0:2]"
   ]
  },
  {
   "cell_type": "code",
   "execution_count": 6,
   "id": "d3e4aa59",
   "metadata": {},
   "outputs": [],
   "source": [
    "# Write PHANGS_SNe catalog to file\n",
    "\n",
    "ascii.write(PHANGS_SNe, '../Data/1.PHANGS_SNe.csv', format='csv', overwrite=True)\n"
   ]
  },
  {
   "cell_type": "code",
   "execution_count": null,
   "id": "e46206d3",
   "metadata": {},
   "outputs": [],
   "source": []
  }
 ],
 "metadata": {
  "kernelspec": {
   "display_name": "Python 3",
   "language": "python",
   "name": "python3"
  },
  "language_info": {
   "codemirror_mode": {
    "name": "ipython",
    "version": 3
   },
   "file_extension": ".py",
   "mimetype": "text/x-python",
   "name": "python",
   "nbconvert_exporter": "python",
   "pygments_lexer": "ipython3",
   "version": "3.8.10"
  }
 },
 "nbformat": 4,
 "nbformat_minor": 5
}
