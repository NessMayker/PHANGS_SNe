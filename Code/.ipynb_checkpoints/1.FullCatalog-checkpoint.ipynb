{
 "cells": [
  {
   "cell_type": "markdown",
   "id": "neutral-exclusive",
   "metadata": {},
   "source": [
    "Makes the full SN catalog by combining OSC and TNS."
   ]
  },
  {
   "cell_type": "markdown",
   "id": "79efeeb3",
   "metadata": {},
   "source": [
    "OSC column names: \"Name\",\"Disc. Date\",\"mmax\",\"Host Name\",\"R.A.\",\"Dec.\",\"Type\",\"Phot.\",\"Spec.\",\"Radio\",\"X-ray\"\n",
    "\n",
    "TNS column names: \"ID\",\"Name\",\"RA\",\"DEC\",\"Ob\n",
    "j. Type\",\"Redshift\",\"Host Name\",\"Host Redshift\",\"Reporting Group/s\",\n",
    "\"Discovery Data Source/s\",\"Classifying Group/s\",\"Associated Group/s\",\"Disc. Internal Name\",\"Disc. Instrument/s\",\n",
    "\"Class. Instrument/s\",\"TNS AT\",\"Public\",\"End Prop. Period\",\"Discovery Mag/Flux\",\"Discovery Filter\",\"Discovery\n",
    "Date (UT)\",\"Sender\",\"Remarks\",\"Discovery Bibcode\",\"Classification Bibcodes\",\"Ext. catalog/s\"\n"
   ]
  },
  {
   "cell_type": "code",
   "execution_count": 1,
   "id": "demonstrated-christianity",
   "metadata": {},
   "outputs": [],
   "source": [
    "# IMPORT PACKAGES\n",
    "import numpy as np\n",
    "from matplotlib import pyplot as plt\n",
    "import astropy.io.fits as pyfits\n",
    "from astropy.table import Table, vstack\n",
    "from astropy.wcs import WCS\n",
    "from astropy.io import ascii\n",
    "import astropy\n",
    "from astropy.io import fits\n",
    "\n"
   ]
  },
  {
   "cell_type": "code",
   "execution_count": 2,
   "id": "designing-commissioner",
   "metadata": {
    "scrolled": true
   },
   "outputs": [],
   "source": [
    "# Prep catalog\n",
    "\n",
    "OSC_File = '../Data/1.OSCCleaned.csv'\n",
    "OSC_Sample = Table.read(OSC_File, format='csv') \n",
    "\n",
    "TNS_File = '../Data/1.TNSCleaned.csv'\n",
    "TNS_Sample = Table.read(TNS_File, format='csv')\n",
    "\n",
    "SN_Cat = vstack([TNS_Sample, OSC_Sample], join_type=\"exact\")\n"
   ]
  },
  {
   "cell_type": "code",
   "execution_count": 3,
   "id": "d9844996",
   "metadata": {},
   "outputs": [
    {
     "data": {
      "text/html": [
       "<i>Table length=172907</i>\n",
       "<table id=\"table140274145085904\" class=\"table-striped table-bordered table-condensed\">\n",
       "<thead><tr><th>Name</th><th>RA</th><th>Dec</th><th>Type</th></tr></thead>\n",
       "<thead><tr><th>str41</th><th>str11</th><th>str12</th><th>str19</th></tr></thead>\n",
       "<tr><td>&quot;AT 2022ryl&quot;</td><td>22:19:21.88</td><td>+36:49:10.53</td><td>unclassified</td></tr>\n",
       "<tr><td>&quot;AT 2022ryk&quot;</td><td>5:36:48.38</td><td>-27:30:11.02</td><td>unclassified</td></tr>\n",
       "<tr><td>&quot;AT 2022ryj&quot;</td><td>5:23:51.99</td><td>-31:17:06.78</td><td>unclassified</td></tr>\n",
       "<tr><td>&quot;AT 2022ryi&quot;</td><td>4:19:34.57</td><td>-54:59:03.4</td><td>unclassified</td></tr>\n",
       "<tr><td>&quot;AT 2022ryh&quot;</td><td>20:10:40.61</td><td>-56:26:51.2</td><td>unclassified</td></tr>\n",
       "<tr><td>&quot;AT 2022ryg&quot;</td><td>7:10:23.15</td><td>+17:07:35.73</td><td>unclassified</td></tr>\n",
       "<tr><td>&quot;AT 2022ryf&quot;</td><td>19:52:02.96</td><td>-21:14:33.3</td><td>unclassified</td></tr>\n",
       "<tr><td>&quot;AT 2022rye&quot;</td><td>23:20:46.85</td><td>-8:08:26.75</td><td>unclassified</td></tr>\n",
       "<tr><td>&quot;AT 2022ryd&quot;</td><td>19:58:37.49</td><td>+2:35:59.28</td><td>unclassified</td></tr>\n",
       "<tr><td>&quot;AT 2022ryc&quot;</td><td>13:04:12.45</td><td>-64:52:27.48</td><td>unclassified</td></tr>\n",
       "<tr><td>...</td><td>...</td><td>...</td><td>...</td></tr>\n",
       "<tr><td>&quot;SN185A&quot;</td><td>14:40:48.33</td><td>-61:51:20.0</td><td>Ia</td></tr>\n",
       "<tr><td>&quot;SN1868A&quot;</td><td>12:48:43.5</td><td>-27:09:30.0</td><td>--</td></tr>\n",
       "<tr><td>&quot;SN1935B&quot;</td><td>10:05:11.34</td><td>-7:42:07.15</td><td>--</td></tr>\n",
       "<tr><td>&quot;SN1954J&quot;</td><td>7:36:55.64</td><td>+65:37:52.17</td><td>II Pec?</td></tr>\n",
       "<tr><td>&quot;SN1982aa&quot;</td><td>16:05:12.77</td><td>+20:32:38.37</td><td>--</td></tr>\n",
       "<tr><td>&quot;SN1985M&quot;</td><td>22:08:28.02</td><td>-48:30:20.5</td><td>--</td></tr>\n",
       "<tr><td>&quot;SN1988M&quot;</td><td>12:31:40.94</td><td>+3:55:22.03</td><td>II</td></tr>\n",
       "<tr><td>&quot;SN386A&quot;</td><td>18:11:27.0</td><td>-19:25:00.0</td><td>CC</td></tr>\n",
       "<tr><td>&quot;SN393A&quot;</td><td>17:13:50.0</td><td>-39:24:60.0</td><td>CC</td></tr>\n",
       "<tr><td>&quot;SN837A&quot;</td><td>6:49:60.0</td><td>+9:00:00.0</td><td>Candidate</td></tr>\n",
       "</table>"
      ],
      "text/plain": [
       "<Table length=172907>\n",
       "    Name          RA         Dec          Type    \n",
       "   str41        str11       str12        str19    \n",
       "------------ ----------- ------------ ------------\n",
       "\"AT 2022ryl\" 22:19:21.88 +36:49:10.53 unclassified\n",
       "\"AT 2022ryk\"  5:36:48.38 -27:30:11.02 unclassified\n",
       "\"AT 2022ryj\"  5:23:51.99 -31:17:06.78 unclassified\n",
       "\"AT 2022ryi\"  4:19:34.57  -54:59:03.4 unclassified\n",
       "\"AT 2022ryh\" 20:10:40.61  -56:26:51.2 unclassified\n",
       "\"AT 2022ryg\"  7:10:23.15 +17:07:35.73 unclassified\n",
       "\"AT 2022ryf\" 19:52:02.96  -21:14:33.3 unclassified\n",
       "\"AT 2022rye\" 23:20:46.85  -8:08:26.75 unclassified\n",
       "\"AT 2022ryd\" 19:58:37.49  +2:35:59.28 unclassified\n",
       "\"AT 2022ryc\" 13:04:12.45 -64:52:27.48 unclassified\n",
       "         ...         ...          ...          ...\n",
       "    \"SN185A\" 14:40:48.33  -61:51:20.0           Ia\n",
       "   \"SN1868A\"  12:48:43.5  -27:09:30.0           --\n",
       "   \"SN1935B\" 10:05:11.34  -7:42:07.15           --\n",
       "   \"SN1954J\"  7:36:55.64 +65:37:52.17      II Pec?\n",
       "  \"SN1982aa\" 16:05:12.77 +20:32:38.37           --\n",
       "   \"SN1985M\" 22:08:28.02  -48:30:20.5           --\n",
       "   \"SN1988M\" 12:31:40.94  +3:55:22.03           II\n",
       "    \"SN386A\"  18:11:27.0  -19:25:00.0           CC\n",
       "    \"SN393A\"  17:13:50.0  -39:24:60.0           CC\n",
       "    \"SN837A\"   6:49:60.0   +9:00:00.0    Candidate"
      ]
     },
     "execution_count": 3,
     "metadata": {},
     "output_type": "execute_result"
    }
   ],
   "source": [
    "SN_Cat"
   ]
  },
  {
   "cell_type": "code",
   "execution_count": null,
   "id": "killing-colony",
   "metadata": {},
   "outputs": [],
   "source": []
  },
  {
   "cell_type": "code",
   "execution_count": null,
   "id": "transparent-detective",
   "metadata": {},
   "outputs": [],
   "source": []
  },
  {
   "cell_type": "code",
   "execution_count": null,
   "id": "conventional-admission",
   "metadata": {},
   "outputs": [],
   "source": []
  }
 ],
 "metadata": {
  "kernelspec": {
   "display_name": "Python 3",
   "language": "python",
   "name": "python3"
  },
  "language_info": {
   "codemirror_mode": {
    "name": "ipython",
    "version": 3
   },
   "file_extension": ".py",
   "mimetype": "text/x-python",
   "name": "python",
   "nbconvert_exporter": "python",
   "pygments_lexer": "ipython3",
   "version": "3.8.10"
  }
 },
 "nbformat": 4,
 "nbformat_minor": 5
}
